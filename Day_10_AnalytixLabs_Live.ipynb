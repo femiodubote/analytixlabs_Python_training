{
 "cells": [
  {
   "cell_type": "markdown",
   "metadata": {},
   "source": [
    "In this particular session, we are required to simulate a Pizza Order System using only **Python Base Functionality**. To solve this problem, we need to make sure that we are not using any **Python Package**.\n",
    "\n",
    "\n",
    "The program should be as follows:\n",
    "\n",
    "\n",
    "- It should ask for the customer name and phone number to personalised the order. Remember the program should be able to handle the incorrect entries such as incorrect phone numbers and incorrect name.\n",
    "- Then, the program should ask for the number of pizza, he/she wanted to order. The maximum number of pizzas the outlet can deliver is 10. So make sure the program is able to handle this case. Also, if the number of pizza ordered by a person is more than or equal to 5, there is a 10% discount will be applied to the overall price.\n",
    "- Then, the program should ask for the type of **Pizza Base** the person is willing to take. The information regarding all the types of available pizza base together with the price of each base is provided in a text file.\n",
    "- Then, the program should ask for the type of **Pizza** the person is willing to take. The information regarding all the types of available pizzas together with the price of each pizza is provided in a text file.\n",
    "- Finally, the program should ask for the type of **topping** the person is willing to have over the pizza. The information regarding all the types of toppings together with the price of each pizza is provided in a text file.\n",
    "- Once the order is complete, the program should display the order summary and then it should ask for the mode of payment. \n",
    "- There are only 3 modes of payment available with the outlet. 1. Cash, 2. Card, 3. UPI\n",
    "- All the payments are needed to have 18% GST added to the total bill.\n",
    "- Make sure that the information collected per order is saved by the program in a text file so that the company may use that information to understand customer behaviour. "
   ]
  },
  {
   "cell_type": "code",
   "execution_count": 7,
   "metadata": {},
   "outputs": [],
   "source": [
    "# Python open command\n",
    "\n",
    "data_file = open(\"Types_of_Base.txt\", \"r\")"
   ]
  },
  {
   "cell_type": "code",
   "execution_count": 8,
   "metadata": {},
   "outputs": [
    {
     "data": {
      "text/plain": [
       "<_io.TextIOWrapper name='Types_of_Base.txt' mode='r' encoding='cp1252'>"
      ]
     },
     "execution_count": 8,
     "metadata": {},
     "output_type": "execute_result"
    }
   ],
   "source": [
    "data_file"
   ]
  },
  {
   "cell_type": "code",
   "execution_count": 9,
   "metadata": {},
   "outputs": [
    {
     "name": "stdout",
     "output_type": "stream",
     "text": [
      "['B1', 'Thin crust', '1\\n']\n",
      "['B2', 'Thick Crust', '1.5\\n']\n",
      "['B3', 'Cheese burst', '2']\n"
     ]
    }
   ],
   "source": [
    "for i in data_file:\n",
    "    print(i.split(';'))"
   ]
  },
  {
   "cell_type": "markdown",
   "metadata": {},
   "source": [
    "## Reading Data from Text files"
   ]
  },
  {
   "cell_type": "code",
   "execution_count": 13,
   "metadata": {},
   "outputs": [],
   "source": [
    "base = {}\n",
    "pizza = {}\n",
    "topping = {}\n",
    "def read_data(link, filename):\n",
    "    data_file = open(link, \"r\")\n",
    "    for i in data_file:\n",
    "        content = i.split(\";\")\n",
    "        if filename.lower() ==\"pizza\":\n",
    "            pizza[content[0]] = [content[1], content[2].strip()]\n",
    "        elif filename.lower()==\"base\":\n",
    "            base[content[0]] =[content[1], content[2].strip()]\n",
    "        elif filename.lower() =='topping':\n",
    "            topping[content[0]] = [content[1], content[2].strip()]\n",
    "        else:\n",
    "            print('Incorrect Filename')\n",
    "    data_file.close()"
   ]
  },
  {
   "cell_type": "code",
   "execution_count": 14,
   "metadata": {},
   "outputs": [],
   "source": [
    "read_data(\"Types_of_Base.txt\", \"base\")"
   ]
  },
  {
   "cell_type": "code",
   "execution_count": 16,
   "metadata": {},
   "outputs": [],
   "source": [
    "read_data(\"Types_of_Pizza.txt\", \"pizza\")"
   ]
  },
  {
   "cell_type": "code",
   "execution_count": 17,
   "metadata": {},
   "outputs": [],
   "source": [
    "read_data(\"Types_of_toppings.txt\", \"topping\")"
   ]
  },
  {
   "cell_type": "code",
   "execution_count": 15,
   "metadata": {},
   "outputs": [
    {
     "data": {
      "text/plain": [
       "{'B1': ['Thin crust', '1'],\n",
       " 'B2': ['Thick Crust', '1.5'],\n",
       " 'B3': ['Cheese burst', '2']}"
      ]
     },
     "execution_count": 15,
     "metadata": {},
     "output_type": "execute_result"
    }
   ],
   "source": [
    "base"
   ]
  },
  {
   "cell_type": "code",
   "execution_count": 18,
   "metadata": {},
   "outputs": [
    {
     "data": {
      "text/plain": [
       "{'P1': ['Margherita', '3'],\n",
       " 'P2': ['Chicago', '3.5'],\n",
       " 'P3': ['Greek', '3'],\n",
       " 'P4': ['California', '3.5'],\n",
       " 'P5': ['Farm house', '3']}"
      ]
     },
     "execution_count": 18,
     "metadata": {},
     "output_type": "execute_result"
    }
   ],
   "source": [
    "pizza"
   ]
  },
  {
   "cell_type": "code",
   "execution_count": 19,
   "metadata": {},
   "outputs": [
    {
     "data": {
      "text/plain": [
       "{'T1': ['Olives', '0.5'],\n",
       " 'T2': ['Extra Cheese', '0.5'],\n",
       " 'T3': ['Mushrooms', '0.5'],\n",
       " 'T4': ['Green peppers', '0.5']}"
      ]
     },
     "execution_count": 19,
     "metadata": {},
     "output_type": "execute_result"
    }
   ],
   "source": [
    "topping"
   ]
  },
  {
   "cell_type": "code",
   "execution_count": 46,
   "metadata": {},
   "outputs": [],
   "source": [
    "master_details = []"
   ]
  },
  {
   "cell_type": "code",
   "execution_count": 22,
   "metadata": {},
   "outputs": [
    {
     "data": {
      "text/plain": [
       "False"
      ]
     },
     "execution_count": 22,
     "metadata": {},
     "output_type": "execute_result"
    }
   ],
   "source": [
    "\"sumit1\".isalpha()"
   ]
  },
  {
   "cell_type": "code",
   "execution_count": 24,
   "metadata": {},
   "outputs": [
    {
     "data": {
      "text/plain": [
       "False"
      ]
     },
     "execution_count": 24,
     "metadata": {},
     "output_type": "execute_result"
    }
   ],
   "source": [
    "\"12344a\".isnumeric()"
   ]
  },
  {
   "cell_type": "markdown",
   "metadata": {},
   "source": [
    "## Customer Details"
   ]
  },
  {
   "cell_type": "code",
   "execution_count": 25,
   "metadata": {},
   "outputs": [],
   "source": [
    "\n",
    "def cust_details():\n",
    "    \n",
    "    # Input the name\n",
    "    name = input(\"Enter your name: \")\n",
    "    while True:\n",
    "        if name.isalpha():\n",
    "            master_details.append(name)\n",
    "            break\n",
    "        else:\n",
    "            print(\"Name field can only contain name with all alphabets, Please enter again!\")\n",
    "            name = input(\"Enter your name: \")\n",
    "            \n",
    "    # Mobile number\n",
    "    mobile = input(\"Enter your mobile number: \")\n",
    "    while True:\n",
    "        if mobile.isnumeric() and len(mobile)==10:\n",
    "            master_details.append(mobile)\n",
    "            break\n",
    "        else:\n",
    "            print(\"Mobile number can have only digits and should be of 10 numbers, Please enter the mobile number again!\")\n",
    "            mobile = input(\"Enter your mobile number: \")"
   ]
  },
  {
   "cell_type": "code",
   "execution_count": 47,
   "metadata": {},
   "outputs": [
    {
     "name": "stdout",
     "output_type": "stream",
     "text": [
      "Enter your name: Sumit\n",
      "Enter your mobile number: 1234567891\n"
     ]
    }
   ],
   "source": [
    "cust_details()"
   ]
  },
  {
   "cell_type": "code",
   "execution_count": 48,
   "metadata": {},
   "outputs": [],
   "source": [
    "price = {}"
   ]
  },
  {
   "cell_type": "code",
   "execution_count": 49,
   "metadata": {},
   "outputs": [],
   "source": [
    "def order():\n",
    "    \n",
    "    # Asking for number of Pizza's:\n",
    "    number = input(\"Enter the count of pizza you wanted to order: \")\n",
    "    while True:\n",
    "        if int(number)<=10:\n",
    "            master_details.append(number)\n",
    "            price['number'] = int(number)\n",
    "            break\n",
    "        else:\n",
    "            print(\"Sorry, we can't process number of pizza more than 10, please enter a number equals to or less than 10.\")\n",
    "            number = input(\"Enter the count of pizza you wanted to order: \")\n",
    "    \n",
    "    print('\\n')\n",
    "    # Asking pizza base from customer\n",
    "    for i,j in base.items():\n",
    "        print(i,j)\n",
    "    \n",
    "    bbase  = input(\"Enter the code for pizza base: \").upper()\n",
    "    while True:\n",
    "        if bbase in list(base.keys()):\n",
    "            bname = base.get(bbase)[0]\n",
    "            bprice = float(base.get(bbase)[1])\n",
    "            master_details.append(bname)\n",
    "            price['base_price'] = bprice\n",
    "            break\n",
    "        else:\n",
    "            print(\"Please choose the base code from the availabel options\")\n",
    "            bbase  = input(\"Enter the code for pizza base: \").upper()\n",
    "    \n",
    "    print(\"\\n\")\n",
    "    # Asking type of Pizza from the customer\n",
    "    for i,j in pizza.items():\n",
    "        print(i,j)\n",
    "    \n",
    "    ppizza = input(\"Enter the code for pizza: \").upper()\n",
    "    while True:\n",
    "        if ppizza in list(pizza.keys()):\n",
    "            pname = pizza.get(ppizza)[0]\n",
    "            pprice = float(pizza.get(ppizza)[1])\n",
    "            master_details.append(pname)\n",
    "            price['pizza_price'] = pprice\n",
    "            break\n",
    "        else:\n",
    "            print(\"Please choose the pizza code from the available options\")\n",
    "            ppizza = input(\"Enter the code for pizza\").upper()\n",
    "    \n",
    "    print(\"\\n\")\n",
    "    # Aksing type of topping for the pizza from the customer\n",
    "    for i,j in topping.items():\n",
    "        print(i,j)\n",
    "        \n",
    "    ttopping = input(\"Enter the code for topping type: \").upper()\n",
    "    while True:\n",
    "        if ttopping in list(topping.keys()):\n",
    "            tname = topping.get(ttopping)[0]\n",
    "            tprice = float(topping.get(ttopping)[1])\n",
    "            master_details.append(tname)\n",
    "            price['topping_price'] = tprice\n",
    "            break\n",
    "        else:\n",
    "            print(\"Please choose the topping code from the availabel options\")\n",
    "            ttopping = input(\"Enter the code for topping type: \").upper()"
   ]
  },
  {
   "cell_type": "code",
   "execution_count": 72,
   "metadata": {},
   "outputs": [],
   "source": [
    "def mop():\n",
    "    print(\"1: Cash\")\n",
    "    print(\"2: Card\")\n",
    "    print(\"3: UPI\")\n",
    "    mode = input(\"Enter the code for the prefferd mode of payment\")\n",
    "    while True:\n",
    "        if mode.isnumeric() and mode in ['1','2', '3']:\n",
    "            master_details.append(mode)\n",
    "            break\n",
    "        else:\n",
    "            print(\"Enter the correct code to choose the mode of Payment\")\n",
    "            mode = input(\"Enter the code for the prefferd mode of payment\")"
   ]
  },
  {
   "cell_type": "code",
   "execution_count": 50,
   "metadata": {},
   "outputs": [
    {
     "name": "stdout",
     "output_type": "stream",
     "text": [
      "Enter the count of pizza you wanted to order: 11\n",
      "Sorry, we can't process number of pizza more than 10, please enter a number equals to or less than 10.\n",
      "Enter the count of pizza you wanted to order: 2\n",
      "\n",
      "\n",
      "B1 ['Thin crust', '1']\n",
      "B2 ['Thick Crust', '1.5']\n",
      "B3 ['Cheese burst', '2']\n",
      "Enter the code for pizza base: b4\n",
      "Please choose the base code from the availabel options\n",
      "Enter the code for pizza base: b3\n",
      "\n",
      "\n",
      "P1 ['Margherita', '3']\n",
      "P2 ['Chicago', '3.5']\n",
      "P3 ['Greek', '3']\n",
      "P4 ['California', '3.5']\n",
      "P5 ['Farm house', '3']\n",
      "Enter the code for pizza: p7\n",
      "Please choose the pizza code from the available options\n",
      "Enter the code for pizzap5\n",
      "\n",
      "\n",
      "T1 ['Olives', '0.5']\n",
      "T2 ['Extra Cheese', '0.5']\n",
      "T3 ['Mushrooms', '0.5']\n",
      "T4 ['Green peppers', '0.5']\n",
      "Enter the code for topping type: t11\n",
      "Please choose the topping code from the availabel options\n",
      "Enter the code for topping type: t1\n"
     ]
    }
   ],
   "source": [
    "order()"
   ]
  },
  {
   "cell_type": "code",
   "execution_count": 51,
   "metadata": {},
   "outputs": [
    {
     "data": {
      "text/plain": [
       "['Sumit', '1234567891', '2', 'Cheese burst', 'Farm house', 'Olives']"
      ]
     },
     "execution_count": 51,
     "metadata": {},
     "output_type": "execute_result"
    }
   ],
   "source": [
    "master_details"
   ]
  },
  {
   "cell_type": "code",
   "execution_count": 52,
   "metadata": {},
   "outputs": [
    {
     "data": {
      "text/plain": [
       "{'number': 2, 'base_price': 2.0, 'pizza_price': 3.0, 'topping_price': 0.5}"
      ]
     },
     "execution_count": 52,
     "metadata": {},
     "output_type": "execute_result"
    }
   ],
   "source": [
    "price"
   ]
  },
  {
   "cell_type": "code",
   "execution_count": 55,
   "metadata": {},
   "outputs": [
    {
     "name": "stdout",
     "output_type": "stream",
     "text": [
      "Name                    :Sumit\n"
     ]
    }
   ],
   "source": [
    "print(\"{0: <24}:{1: >}\".format(\"Name\", master_details[0]))"
   ]
  },
  {
   "cell_type": "code",
   "execution_count": 79,
   "metadata": {},
   "outputs": [],
   "source": [
    "# opening new text file\n",
    "file1 = open(\"response.txt\", \"w\")"
   ]
  },
  {
   "cell_type": "code",
   "execution_count": 80,
   "metadata": {},
   "outputs": [
    {
     "name": "stdout",
     "output_type": "stream",
     "text": [
      "Enter your name: SUmit\n",
      "Enter your mobile number: 1234567890\n",
      "Enter the count of pizza you wanted to order: 4\n",
      "\n",
      "\n",
      "B1 ['Thin crust', '1']\n",
      "B2 ['Thick Crust', '1.5']\n",
      "B3 ['Cheese burst', '2']\n",
      "Enter the code for pizza base: b2\n",
      "\n",
      "\n",
      "P1 ['Margherita', '3']\n",
      "P2 ['Chicago', '3.5']\n",
      "P3 ['Greek', '3']\n",
      "P4 ['California', '3.5']\n",
      "P5 ['Farm house', '3']\n",
      "Enter the code for pizza: p1\n",
      "\n",
      "\n",
      "T1 ['Olives', '0.5']\n",
      "T2 ['Extra Cheese', '0.5']\n",
      "T3 ['Mushrooms', '0.5']\n",
      "T4 ['Green peppers', '0.5']\n",
      "Enter the code for topping type: t1\n",
      "\n",
      "\n",
      "Order Summary\n",
      "---------------------\n",
      "Name                          :SUmit\n",
      "Mobile Number                 :1234567890\n",
      "Number of Pizza Orded         :4\n",
      "Type of Base                  :Thick Crust\n",
      "Type of Pizza                 :Margherita\n",
      "Type of topping               :Olives\n",
      "Total Cost(18% GST Included)  :23.6\n",
      "\n",
      "\n",
      "Do you wanted to conform the order? | Y:Yes, N: Noy\n",
      "1: Cash\n",
      "2: Card\n",
      "3: UPI\n",
      "Enter the code for the prefferd mode of payment1\n",
      "Thanks for you order!\n",
      "Do you wanted to place a new order? | Y:Yes, N:Noy\n",
      "Enter your name: Sunil\n",
      "Enter your mobile number: 7894561230\n",
      "Enter the count of pizza you wanted to order: 2\n",
      "\n",
      "\n",
      "B1 ['Thin crust', '1']\n",
      "B2 ['Thick Crust', '1.5']\n",
      "B3 ['Cheese burst', '2']\n",
      "Enter the code for pizza base: b2\n",
      "\n",
      "\n",
      "P1 ['Margherita', '3']\n",
      "P2 ['Chicago', '3.5']\n",
      "P3 ['Greek', '3']\n",
      "P4 ['California', '3.5']\n",
      "P5 ['Farm house', '3']\n",
      "Enter the code for pizza: p4\n",
      "\n",
      "\n",
      "T1 ['Olives', '0.5']\n",
      "T2 ['Extra Cheese', '0.5']\n",
      "T3 ['Mushrooms', '0.5']\n",
      "T4 ['Green peppers', '0.5']\n",
      "Enter the code for topping type: t3\n",
      "\n",
      "\n",
      "Order Summary\n",
      "---------------------\n",
      "Name                          :Sunil\n",
      "Mobile Number                 :7894561230\n",
      "Number of Pizza Orded         :2\n",
      "Type of Base                  :Thick Crust\n",
      "Type of Pizza                 :California\n",
      "Type of topping               :Mushrooms\n",
      "Total Cost(18% GST Included)  :12.98\n",
      "\n",
      "\n",
      "Do you wanted to conform the order? | Y:Yes, N: Noy\n",
      "1: Cash\n",
      "2: Card\n",
      "3: UPI\n",
      "Enter the code for the prefferd mode of payment3\n",
      "Thanks for you order!\n",
      "Do you wanted to place a new order? | Y:Yes, N:Noy\n",
      "Enter your name: Rama\n",
      "Enter your mobile number: 1597652040\n",
      "Enter the count of pizza you wanted to order: 4\n",
      "\n",
      "\n",
      "B1 ['Thin crust', '1']\n",
      "B2 ['Thick Crust', '1.5']\n",
      "B3 ['Cheese burst', '2']\n",
      "Enter the code for pizza base: b3\n",
      "\n",
      "\n",
      "P1 ['Margherita', '3']\n",
      "P2 ['Chicago', '3.5']\n",
      "P3 ['Greek', '3']\n",
      "P4 ['California', '3.5']\n",
      "P5 ['Farm house', '3']\n",
      "Enter the code for pizza: p5\n",
      "\n",
      "\n",
      "T1 ['Olives', '0.5']\n",
      "T2 ['Extra Cheese', '0.5']\n",
      "T3 ['Mushrooms', '0.5']\n",
      "T4 ['Green peppers', '0.5']\n",
      "Enter the code for topping type: t1\n",
      "\n",
      "\n",
      "Order Summary\n",
      "---------------------\n",
      "Name                          :Rama\n",
      "Mobile Number                 :1597652040\n",
      "Number of Pizza Orded         :4\n",
      "Type of Base                  :Cheese burst\n",
      "Type of Pizza                 :Farm house\n",
      "Type of topping               :Olives\n",
      "Total Cost(18% GST Included)  :25.96\n",
      "\n",
      "\n",
      "Do you wanted to conform the order? | Y:Yes, N: Noy\n",
      "1: Cash\n",
      "2: Card\n",
      "3: UPI\n",
      "Enter the code for the prefferd mode of payment2\n",
      "Thanks for you order!\n",
      "Do you wanted to place a new order? | Y:Yes, N:Noy\n",
      "Enter your name: Rajesh\n",
      "Enter your mobile number: 7536954520\n",
      "Enter the count of pizza you wanted to order: 4\n",
      "\n",
      "\n",
      "B1 ['Thin crust', '1']\n",
      "B2 ['Thick Crust', '1.5']\n",
      "B3 ['Cheese burst', '2']\n",
      "Enter the code for pizza base: b2\n",
      "\n",
      "\n",
      "P1 ['Margherita', '3']\n",
      "P2 ['Chicago', '3.5']\n",
      "P3 ['Greek', '3']\n",
      "P4 ['California', '3.5']\n",
      "P5 ['Farm house', '3']\n",
      "Enter the code for pizza: p3\n",
      "\n",
      "\n",
      "T1 ['Olives', '0.5']\n",
      "T2 ['Extra Cheese', '0.5']\n",
      "T3 ['Mushrooms', '0.5']\n",
      "T4 ['Green peppers', '0.5']\n",
      "Enter the code for topping type: t3\n",
      "\n",
      "\n",
      "Order Summary\n",
      "---------------------\n",
      "Name                          :Rajesh\n",
      "Mobile Number                 :7536954520\n",
      "Number of Pizza Orded         :4\n",
      "Type of Base                  :Thick Crust\n",
      "Type of Pizza                 :Greek\n",
      "Type of topping               :Mushrooms\n",
      "Total Cost(18% GST Included)  :23.6\n",
      "\n",
      "\n",
      "Do you wanted to conform the order? | Y:Yes, N: Noy\n",
      "1: Cash\n",
      "2: Card\n",
      "3: UPI\n",
      "Enter the code for the prefferd mode of payment3\n",
      "Thanks for you order!\n",
      "Do you wanted to place a new order? | Y:Yes, N:Non\n"
     ]
    }
   ],
   "source": [
    "while True:\n",
    "    master_details = []\n",
    "    cust_details()\n",
    "    price = {}\n",
    "    order()\n",
    "    \n",
    "    print(\"\\n\")\n",
    "    print(\"Order Summary\")\n",
    "    print(\"---------------------\")\n",
    "    print(\"{0: <30}:{1: >}\".format(\"Name\", master_details[0]))\n",
    "    print(\"{0: <30}:{1: >}\".format(\"Mobile Number\", master_details[1]))\n",
    "    print(\"{0: <30}:{1: >}\".format(\"Number of Pizza Orded\", master_details[2]))\n",
    "    print(\"{0: <30}:{1: >}\".format(\"Type of Base\", master_details[3]))\n",
    "    print(\"{0: <30}:{1: >}\".format(\"Type of Pizza\", master_details[4]))\n",
    "    print(\"{0: <30}:{1: >}\".format(\"Type of topping\", master_details[5]))\n",
    "    \n",
    "    cost = price['number']*(price['base_price']+ price['pizza_price'] +price['topping_price'])\n",
    "    if price['number']>=5:\n",
    "        cost = cost-0.1*cost\n",
    "        cost = cost+0.18*cost\n",
    "        master_details.append(str(cost))\n",
    "    else:\n",
    "        cost = cost+0.18*cost\n",
    "        master_details.append(str(cost))\n",
    "    \n",
    "    print(\"{0: <30}:{1: >}\".format(\"Total Cost(18% GST Included)\", cost))\n",
    "    \n",
    "    # Writing the data to response text file\n",
    "    \n",
    "    print(\"\\n\")\n",
    "    confirm = input(\"Do you wanted to conform the order? | Y:Yes, N: No\").upper()\n",
    "    if confirm ==\"Y\":\n",
    "        mop()\n",
    "        \n",
    "        print('Thanks for you order!')\n",
    "        to_append = \";\".join(master_details)+\"\\n\"\n",
    "        file1.write(to_append)\n",
    "        conti = input(\"Do you wanted to place a new order? | Y:Yes, N:No\").upper()\n",
    "        if conti ==\"Y\":\n",
    "            continue\n",
    "        else:\n",
    "            break\n",
    "    else:\n",
    "        master_details = []\n",
    "        conti = input(\"Do you wanted to place a new order? |Y: Yes, N: No\").upper()\n",
    "        if conti == 'Y':\n",
    "            continue\n",
    "        else:\n",
    "            break\n",
    "            \n",
    "\n",
    "file1.close()               "
   ]
  },
  {
   "cell_type": "code",
   "execution_count": 78,
   "metadata": {},
   "outputs": [
    {
     "data": {
      "text/plain": [
       "'Rajesh;7539518520;4;Thin crust;California;Green peppers;23.6;3'"
      ]
     },
     "execution_count": 78,
     "metadata": {},
     "output_type": "execute_result"
    }
   ],
   "source": [
    "\";\".join(master_details)"
   ]
  },
  {
   "cell_type": "code",
   "execution_count": 66,
   "metadata": {},
   "outputs": [
    {
     "data": {
      "text/plain": [
       "'Sunil;7894561230;4;Thin crust;Margherita;Olives;21.24\\n'"
      ]
     },
     "execution_count": 66,
     "metadata": {},
     "output_type": "execute_result"
    }
   ],
   "source": [
    "to_append+\"\\n\""
   ]
  },
  {
   "cell_type": "code",
   "execution_count": 82,
   "metadata": {},
   "outputs": [
    {
     "data": {
      "text/html": [
       "<div>\n",
       "<style scoped>\n",
       "    .dataframe tbody tr th:only-of-type {\n",
       "        vertical-align: middle;\n",
       "    }\n",
       "\n",
       "    .dataframe tbody tr th {\n",
       "        vertical-align: top;\n",
       "    }\n",
       "\n",
       "    .dataframe thead th {\n",
       "        text-align: right;\n",
       "    }\n",
       "</style>\n",
       "<table border=\"1\" class=\"dataframe\">\n",
       "  <thead>\n",
       "    <tr style=\"text-align: right;\">\n",
       "      <th></th>\n",
       "      <th>Name</th>\n",
       "      <th>Mobile Number</th>\n",
       "      <th>Number of Pizza</th>\n",
       "      <th>Base</th>\n",
       "      <th>Pizza</th>\n",
       "      <th>Topping</th>\n",
       "      <th>Total Amount</th>\n",
       "      <th>Payment Type</th>\n",
       "    </tr>\n",
       "  </thead>\n",
       "  <tbody>\n",
       "    <tr>\n",
       "      <th>0</th>\n",
       "      <td>SUmit</td>\n",
       "      <td>1234567890</td>\n",
       "      <td>4</td>\n",
       "      <td>Thick Crust</td>\n",
       "      <td>Margherita</td>\n",
       "      <td>Olives</td>\n",
       "      <td>23.60</td>\n",
       "      <td>1</td>\n",
       "    </tr>\n",
       "    <tr>\n",
       "      <th>1</th>\n",
       "      <td>Sunil</td>\n",
       "      <td>7894561230</td>\n",
       "      <td>2</td>\n",
       "      <td>Thick Crust</td>\n",
       "      <td>California</td>\n",
       "      <td>Mushrooms</td>\n",
       "      <td>12.98</td>\n",
       "      <td>3</td>\n",
       "    </tr>\n",
       "    <tr>\n",
       "      <th>2</th>\n",
       "      <td>Rama</td>\n",
       "      <td>1597652040</td>\n",
       "      <td>4</td>\n",
       "      <td>Cheese burst</td>\n",
       "      <td>Farm house</td>\n",
       "      <td>Olives</td>\n",
       "      <td>25.96</td>\n",
       "      <td>2</td>\n",
       "    </tr>\n",
       "    <tr>\n",
       "      <th>3</th>\n",
       "      <td>Rajesh</td>\n",
       "      <td>7536954520</td>\n",
       "      <td>4</td>\n",
       "      <td>Thick Crust</td>\n",
       "      <td>Greek</td>\n",
       "      <td>Mushrooms</td>\n",
       "      <td>23.60</td>\n",
       "      <td>3</td>\n",
       "    </tr>\n",
       "  </tbody>\n",
       "</table>\n",
       "</div>"
      ],
      "text/plain": [
       "     Name  Mobile Number  Number of Pizza          Base       Pizza  \\\n",
       "0   SUmit     1234567890                4   Thick Crust  Margherita   \n",
       "1   Sunil     7894561230                2   Thick Crust  California   \n",
       "2    Rama     1597652040                4  Cheese burst  Farm house   \n",
       "3  Rajesh     7536954520                4   Thick Crust       Greek   \n",
       "\n",
       "     Topping  Total Amount  Payment Type  \n",
       "0     Olives         23.60             1  \n",
       "1  Mushrooms         12.98             3  \n",
       "2     Olives         25.96             2  \n",
       "3  Mushrooms         23.60             3  "
      ]
     },
     "execution_count": 82,
     "metadata": {},
     "output_type": "execute_result"
    }
   ],
   "source": [
    "import pandas as pd\n",
    "pd.read_csv(\"response.txt\", sep = \";\", names = ['Name', 'Mobile Number', 'Number of Pizza', 'Base', 'Pizza', 'Topping', 'Total Amount', \"Payment Type\"])"
   ]
  }
 ],
 "metadata": {
  "kernelspec": {
   "display_name": "Python 3",
   "language": "python",
   "name": "python3"
  },
  "language_info": {
   "codemirror_mode": {
    "name": "ipython",
    "version": 3
   },
   "file_extension": ".py",
   "mimetype": "text/x-python",
   "name": "python",
   "nbconvert_exporter": "python",
   "pygments_lexer": "ipython3",
   "version": "3.7.4"
  }
 },
 "nbformat": 4,
 "nbformat_minor": 2
}
