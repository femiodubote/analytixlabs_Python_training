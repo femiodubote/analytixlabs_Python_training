{
 "cells": [
  {
   "cell_type": "markdown",
   "metadata": {},
   "source": [
    "### Last"
   ]
  },
  {
   "cell_type": "raw",
   "metadata": {},
   "source": [
    "What is Data Science\n",
    "What is Python and Why we need it, why it's important for Data Scinece.\n",
    "What is Python Data Type: Int, Float, Strings, Bool\n",
    "What is Python Object: Lists, Tuple, Dictionaries, Sets\n",
    "How we may work with Lists, Tuple, Dictionaries, Sets"
   ]
  },
  {
   "cell_type": "markdown",
   "metadata": {},
   "source": [
    "### Implement Condition and Loops\n",
    "\n",
    "- If-Elif-Else\n",
    "- Operators\n",
    "- For Loops\n",
    "- While Loops"
   ]
  },
  {
   "cell_type": "code",
   "execution_count": 3,
   "metadata": {},
   "outputs": [
    {
     "name": "stdout",
     "output_type": "stream",
     "text": [
      "False\n",
      "True\n"
     ]
    }
   ],
   "source": [
    "# Equality and the assignment operator\n",
    "\n",
    "# Assignment Operator\n",
    "a = 12\n",
    "b = 12.5\n",
    "\n",
    "# Equality\n",
    "# Checking if the a holds a value 12 or not?\n",
    "print(a == 12.5) # True or False\n",
    "\n",
    "# Not equality operator\n",
    "print(a != 12.5) # True and False"
   ]
  },
  {
   "cell_type": "code",
   "execution_count": 4,
   "metadata": {},
   "outputs": [
    {
     "data": {
      "text/plain": [
       "True"
      ]
     },
     "execution_count": 4,
     "metadata": {},
     "output_type": "execute_result"
    }
   ],
   "source": [
    "## If-Elif and Else\n",
    "\n",
    "a = \"Sumit\"\n",
    "\n",
    "a ==\"Sumit\""
   ]
  },
  {
   "cell_type": "code",
   "execution_count": 7,
   "metadata": {},
   "outputs": [
    {
     "name": "stdout",
     "output_type": "stream",
     "text": [
      "Yes\n"
     ]
    }
   ],
   "source": [
    "if a == \"Sumit\":\n",
    "    print(\"Yes\")\n",
    "else:\n",
    "    print(\"No\")"
   ]
  },
  {
   "cell_type": "code",
   "execution_count": 10,
   "metadata": {},
   "outputs": [
    {
     "name": "stdout",
     "output_type": "stream",
     "text": [
      "Enter a Name: Sumit\n",
      "No Match\n"
     ]
    }
   ],
   "source": [
    "a = input(\"Enter a Name: \")\n",
    "\n",
    "if a == \"python\":\n",
    "    print(\"Small p\")\n",
    "elif a ==\"Python\":\n",
    "    print(\"Capital P\")\n",
    "else:\n",
    "    print(\"No Match\")"
   ]
  },
  {
   "cell_type": "code",
   "execution_count": 11,
   "metadata": {},
   "outputs": [
    {
     "name": "stdout",
     "output_type": "stream",
     "text": [
      "Enter a nameSession With Sumit\n"
     ]
    }
   ],
   "source": [
    "a = input(\"Enter a name\")"
   ]
  },
  {
   "cell_type": "code",
   "execution_count": 12,
   "metadata": {},
   "outputs": [
    {
     "data": {
      "text/plain": [
       "'Session With Sumit'"
      ]
     },
     "execution_count": 12,
     "metadata": {},
     "output_type": "execute_result"
    }
   ],
   "source": [
    "a"
   ]
  },
  {
   "cell_type": "code",
   "execution_count": 16,
   "metadata": {},
   "outputs": [
    {
     "name": "stdout",
     "output_type": "stream",
     "text": [
      "Enter a number5\n"
     ]
    }
   ],
   "source": [
    "a = int(input(\"Enter a number\"))"
   ]
  },
  {
   "cell_type": "code",
   "execution_count": 17,
   "metadata": {},
   "outputs": [
    {
     "data": {
      "text/plain": [
       "5"
      ]
     },
     "execution_count": 17,
     "metadata": {},
     "output_type": "execute_result"
    }
   ],
   "source": [
    "a"
   ]
  },
  {
   "cell_type": "code",
   "execution_count": 18,
   "metadata": {},
   "outputs": [
    {
     "data": {
      "text/plain": [
       "int"
      ]
     },
     "execution_count": 18,
     "metadata": {},
     "output_type": "execute_result"
    }
   ],
   "source": [
    "type(a)"
   ]
  },
  {
   "cell_type": "code",
   "execution_count": 22,
   "metadata": {},
   "outputs": [
    {
     "data": {
      "text/plain": [
       "[0,\n",
       " 1,\n",
       " 2,\n",
       " 3,\n",
       " 4,\n",
       " 5,\n",
       " 6,\n",
       " 7,\n",
       " 8,\n",
       " 9,\n",
       " 10,\n",
       " 11,\n",
       " 12,\n",
       " 13,\n",
       " 14,\n",
       " 15,\n",
       " 16,\n",
       " 17,\n",
       " 18,\n",
       " 19,\n",
       " 20,\n",
       " 21,\n",
       " 22,\n",
       " 23,\n",
       " 24,\n",
       " 25,\n",
       " 26,\n",
       " 27,\n",
       " 28,\n",
       " 29,\n",
       " 30,\n",
       " 31,\n",
       " 32,\n",
       " 33,\n",
       " 34,\n",
       " 35,\n",
       " 36,\n",
       " 37,\n",
       " 38,\n",
       " 39,\n",
       " 40,\n",
       " 41,\n",
       " 42,\n",
       " 43,\n",
       " 44,\n",
       " 45,\n",
       " 46,\n",
       " 47,\n",
       " 48,\n",
       " 49,\n",
       " 50,\n",
       " 51,\n",
       " 52,\n",
       " 53,\n",
       " 54,\n",
       " 55,\n",
       " 56,\n",
       " 57,\n",
       " 58,\n",
       " 59,\n",
       " 60,\n",
       " 61,\n",
       " 62,\n",
       " 63,\n",
       " 64,\n",
       " 65,\n",
       " 66,\n",
       " 67,\n",
       " 68,\n",
       " 69,\n",
       " 70,\n",
       " 71,\n",
       " 72,\n",
       " 73,\n",
       " 74,\n",
       " 75,\n",
       " 76,\n",
       " 77,\n",
       " 78,\n",
       " 79,\n",
       " 80,\n",
       " 81,\n",
       " 82,\n",
       " 83,\n",
       " 84,\n",
       " 85,\n",
       " 86,\n",
       " 87,\n",
       " 88,\n",
       " 89,\n",
       " 90,\n",
       " 91,\n",
       " 92,\n",
       " 93,\n",
       " 94,\n",
       " 95,\n",
       " 96,\n",
       " 97,\n",
       " 98,\n",
       " 99,\n",
       " 100]"
      ]
     },
     "execution_count": 22,
     "metadata": {},
     "output_type": "execute_result"
    }
   ],
   "source": [
    "## Range operator\n",
    "\n",
    "# List with number between 0 to 100:\n",
    "# [0,1,2,3,4,5.......]\n",
    "\n",
    "# Range\n",
    "# Stat Number: included\n",
    "# End Number: Not Included\n",
    "list(range(0,101))"
   ]
  },
  {
   "cell_type": "code",
   "execution_count": 24,
   "metadata": {},
   "outputs": [
    {
     "name": "stdout",
     "output_type": "stream",
     "text": [
      "7.5\n",
      "1\n"
     ]
    }
   ],
   "source": [
    "# Modulo Operator %\n",
    "\n",
    "# Quetition\n",
    "print(15/2)\n",
    "\n",
    "# Reminder\n",
    "print(15%2)"
   ]
  },
  {
   "cell_type": "code",
   "execution_count": 25,
   "metadata": {},
   "outputs": [
    {
     "data": {
      "text/plain": [
       "0"
      ]
     },
     "execution_count": 25,
     "metadata": {},
     "output_type": "execute_result"
    }
   ],
   "source": [
    "14%2"
   ]
  },
  {
   "cell_type": "code",
   "execution_count": 26,
   "metadata": {},
   "outputs": [
    {
     "data": {
      "text/plain": [
       "0"
      ]
     },
     "execution_count": 26,
     "metadata": {},
     "output_type": "execute_result"
    }
   ],
   "source": [
    "16%2"
   ]
  },
  {
   "cell_type": "code",
   "execution_count": 27,
   "metadata": {},
   "outputs": [
    {
     "data": {
      "text/plain": [
       "0"
      ]
     },
     "execution_count": 27,
     "metadata": {},
     "output_type": "execute_result"
    }
   ],
   "source": [
    "20%2"
   ]
  },
  {
   "cell_type": "code",
   "execution_count": 28,
   "metadata": {},
   "outputs": [
    {
     "data": {
      "text/plain": [
       "1"
      ]
     },
     "execution_count": 28,
     "metadata": {},
     "output_type": "execute_result"
    }
   ],
   "source": [
    "13%2"
   ]
  },
  {
   "cell_type": "markdown",
   "metadata": {},
   "source": [
    "## Loops\n",
    "\n",
    "- For Loop: We use a for loop in the case when I know how many times I need to run my Loop\n",
    "- While Loops: We use a while loop in the case when I know the condition but not the n\n",
    "\n",
    "\n",
    "When we wanted to do a certain task in Python for n number of times"
   ]
  },
  {
   "cell_type": "code",
   "execution_count": 29,
   "metadata": {},
   "outputs": [
    {
     "name": "stdout",
     "output_type": "stream",
     "text": [
      "Sumit\n",
      "Sumit\n",
      "Sumit\n",
      "Sumit\n",
      "Sumit\n"
     ]
    }
   ],
   "source": [
    "print(\"Sumit\")\n",
    "print(\"Sumit\")\n",
    "print(\"Sumit\")\n",
    "print(\"Sumit\")\n",
    "print(\"Sumit\")"
   ]
  },
  {
   "cell_type": "code",
   "execution_count": 31,
   "metadata": {},
   "outputs": [
    {
     "name": "stdout",
     "output_type": "stream",
     "text": [
      "Sumit\n",
      "Sumit\n",
      "Sumit\n",
      "Sumit\n",
      "Sumit\n",
      "Sumit\n",
      "Sumit\n",
      "Sumit\n",
      "Sumit\n"
     ]
    }
   ],
   "source": [
    "## For loop\n",
    "for i in range(1, 10):\n",
    "    print(\"Sumit\")"
   ]
  },
  {
   "cell_type": "code",
   "execution_count": 32,
   "metadata": {},
   "outputs": [
    {
     "name": "stdout",
     "output_type": "stream",
     "text": [
      "0 Sumit\n",
      "1 Sumit\n",
      "2 Sumit\n",
      "3 Sumit\n",
      "4 Sumit\n",
      "5 Sumit\n",
      "6 Sumit\n",
      "7 Sumit\n",
      "8 Sumit\n",
      "9 Sumit\n",
      "10 Sumit\n",
      "11 Sumit\n",
      "12 Sumit\n",
      "13 Sumit\n",
      "14 Sumit\n",
      "15 Sumit\n",
      "16 Sumit\n",
      "17 Sumit\n",
      "18 Sumit\n",
      "19 Sumit\n",
      "20 Sumit\n",
      "21 Sumit\n",
      "22 Sumit\n",
      "23 Sumit\n",
      "24 Sumit\n",
      "25 Sumit\n",
      "26 Sumit\n",
      "27 Sumit\n",
      "28 Sumit\n",
      "29 Sumit\n",
      "30 Sumit\n",
      "31 Sumit\n",
      "32 Sumit\n",
      "33 Sumit\n",
      "34 Sumit\n",
      "35 Sumit\n",
      "36 Sumit\n",
      "37 Sumit\n",
      "38 Sumit\n",
      "39 Sumit\n",
      "40 Sumit\n",
      "41 Sumit\n",
      "42 Sumit\n",
      "43 Sumit\n",
      "44 Sumit\n",
      "45 Sumit\n",
      "46 Sumit\n",
      "47 Sumit\n",
      "48 Sumit\n",
      "49 Sumit\n",
      "50 Sumit\n",
      "51 Sumit\n",
      "52 Sumit\n",
      "53 Sumit\n",
      "54 Sumit\n",
      "55 Sumit\n",
      "56 Sumit\n",
      "57 Sumit\n",
      "58 Sumit\n",
      "59 Sumit\n",
      "60 Sumit\n",
      "61 Sumit\n",
      "62 Sumit\n",
      "63 Sumit\n",
      "64 Sumit\n",
      "65 Sumit\n",
      "66 Sumit\n",
      "67 Sumit\n",
      "68 Sumit\n",
      "69 Sumit\n",
      "70 Sumit\n",
      "71 Sumit\n",
      "72 Sumit\n",
      "73 Sumit\n",
      "74 Sumit\n",
      "75 Sumit\n",
      "76 Sumit\n",
      "77 Sumit\n",
      "78 Sumit\n",
      "79 Sumit\n",
      "80 Sumit\n",
      "81 Sumit\n",
      "82 Sumit\n",
      "83 Sumit\n",
      "84 Sumit\n",
      "85 Sumit\n",
      "86 Sumit\n",
      "87 Sumit\n",
      "88 Sumit\n",
      "89 Sumit\n",
      "90 Sumit\n",
      "91 Sumit\n",
      "92 Sumit\n",
      "93 Sumit\n",
      "94 Sumit\n",
      "95 Sumit\n",
      "96 Sumit\n",
      "97 Sumit\n",
      "98 Sumit\n",
      "99 Sumit\n"
     ]
    }
   ],
   "source": [
    "for j in range(100):\n",
    "    print(j, \"Sumit\")"
   ]
  },
  {
   "cell_type": "raw",
   "metadata": {},
   "source": [
    "#### Question\n",
    "1                                                                                                             \n",
    "22                                                                                                            \n",
    "333                                                                                                           \n",
    "4444                                                                                                          \n",
    "55555                                                                                                         \n",
    "666666                                                                                                        \n",
    "7777777                                                                                                       \n",
    "88888888                                                                                                      \n",
    "999999999 "
   ]
  },
  {
   "cell_type": "code",
   "execution_count": null,
   "metadata": {},
   "outputs": [],
   "source": [
    "1 for 1 time\n",
    "2 for 2 times\n",
    "3 for 3 times\n",
    "4 for 4 times\n"
   ]
  },
  {
   "cell_type": "code",
   "execution_count": 35,
   "metadata": {},
   "outputs": [
    {
     "data": {
      "text/plain": [
       "'4444'"
      ]
     },
     "execution_count": 35,
     "metadata": {},
     "output_type": "execute_result"
    }
   ],
   "source": [
    "\"4\"*4"
   ]
  },
  {
   "cell_type": "code",
   "execution_count": 38,
   "metadata": {},
   "outputs": [
    {
     "data": {
      "text/plain": [
       "4"
      ]
     },
     "execution_count": 38,
     "metadata": {},
     "output_type": "execute_result"
    }
   ],
   "source": [
    "2*2"
   ]
  },
  {
   "cell_type": "code",
   "execution_count": 44,
   "metadata": {},
   "outputs": [
    {
     "data": {
      "text/plain": [
       "'333'"
      ]
     },
     "execution_count": 44,
     "metadata": {},
     "output_type": "execute_result"
    }
   ],
   "source": [
    "str(3)*3"
   ]
  },
  {
   "cell_type": "code",
   "execution_count": 40,
   "metadata": {},
   "outputs": [
    {
     "name": "stdout",
     "output_type": "stream",
     "text": [
      "1\n",
      "22\n",
      "333\n",
      "4444\n",
      "55555\n",
      "666666\n",
      "7777777\n",
      "88888888\n",
      "999999999\n"
     ]
    }
   ],
   "source": [
    "for i in range(1,10):\n",
    "    print(str(i)*i)"
   ]
  },
  {
   "cell_type": "code",
   "execution_count": 46,
   "metadata": {},
   "outputs": [
    {
     "data": {
      "text/plain": [
       "True"
      ]
     },
     "execution_count": 46,
     "metadata": {},
     "output_type": "execute_result"
    }
   ],
   "source": [
    "12%2==0"
   ]
  },
  {
   "cell_type": "code",
   "execution_count": 48,
   "metadata": {},
   "outputs": [
    {
     "name": "stdout",
     "output_type": "stream",
     "text": [
      "1 No\n",
      "2 Yes\n",
      "3 No\n",
      "4 Yes\n",
      "5 No\n",
      "6 Yes\n",
      "7 No\n",
      "8 Yes\n",
      "9 No\n",
      "10 Yes\n",
      "11 No\n",
      "12 Yes\n",
      "13 No\n",
      "14 Yes\n",
      "15 No\n",
      "16 Yes\n",
      "17 No\n",
      "18 Yes\n",
      "19 No\n",
      "20 Yes\n",
      "21 No\n",
      "22 Yes\n",
      "23 No\n",
      "24 Yes\n",
      "25 No\n",
      "26 Yes\n",
      "27 No\n",
      "28 Yes\n",
      "29 No\n",
      "30 Yes\n",
      "31 No\n",
      "32 Yes\n",
      "33 No\n",
      "34 Yes\n",
      "35 No\n",
      "36 Yes\n",
      "37 No\n",
      "38 Yes\n",
      "39 No\n",
      "40 Yes\n",
      "41 No\n",
      "42 Yes\n",
      "43 No\n",
      "44 Yes\n",
      "45 No\n",
      "46 Yes\n",
      "47 No\n",
      "48 Yes\n",
      "49 No\n",
      "50 Yes\n",
      "51 No\n",
      "52 Yes\n",
      "53 No\n",
      "54 Yes\n",
      "55 No\n",
      "56 Yes\n",
      "57 No\n",
      "58 Yes\n",
      "59 No\n",
      "60 Yes\n",
      "61 No\n",
      "62 Yes\n",
      "63 No\n",
      "64 Yes\n",
      "65 No\n",
      "66 Yes\n",
      "67 No\n",
      "68 Yes\n",
      "69 No\n",
      "70 Yes\n",
      "71 No\n",
      "72 Yes\n",
      "73 No\n",
      "74 Yes\n",
      "75 No\n",
      "76 Yes\n",
      "77 No\n",
      "78 Yes\n",
      "79 No\n",
      "80 Yes\n",
      "81 No\n",
      "82 Yes\n",
      "83 No\n",
      "84 Yes\n",
      "85 No\n",
      "86 Yes\n",
      "87 No\n",
      "88 Yes\n",
      "89 No\n",
      "90 Yes\n",
      "91 No\n",
      "92 Yes\n",
      "93 No\n",
      "94 Yes\n",
      "95 No\n",
      "96 Yes\n",
      "97 No\n",
      "98 Yes\n",
      "99 No\n",
      "100 Yes\n"
     ]
    }
   ],
   "source": [
    "## For the numbers between 1 to 100: If the number is an even number, print \"yes\" else print \"No\"\n",
    "\n",
    "for i in range(1, 101):\n",
    "    if i%2==0:\n",
    "        print(i, \"Yes\")\n",
    "    else:\n",
    "        print(i, \"No\")"
   ]
  },
  {
   "cell_type": "code",
   "execution_count": 50,
   "metadata": {},
   "outputs": [
    {
     "name": "stdout",
     "output_type": "stream",
     "text": [
      "10\n",
      "9\n",
      "8\n",
      "7\n",
      "6\n",
      "5\n",
      "4\n",
      "3\n",
      "2\n",
      "1\n"
     ]
    }
   ],
   "source": [
    "for i in range(10, 0, -1):\n",
    "    print(i)"
   ]
  },
  {
   "cell_type": "code",
   "execution_count": 51,
   "metadata": {},
   "outputs": [
    {
     "name": "stdout",
     "output_type": "stream",
     "text": [
      "1\n",
      "3\n",
      "5\n",
      "7\n",
      "9\n"
     ]
    }
   ],
   "source": [
    "for i in range(1, 10, 2):\n",
    "    print(i)"
   ]
  },
  {
   "cell_type": "code",
   "execution_count": 52,
   "metadata": {},
   "outputs": [
    {
     "name": "stdout",
     "output_type": "stream",
     "text": [
      "10\n",
      "9\n",
      "8\n",
      "7\n",
      "6\n",
      "5\n",
      "4\n",
      "3\n",
      "2\n"
     ]
    }
   ],
   "source": [
    "for i in range(10, 1, -1):\n",
    "    print(i)"
   ]
  },
  {
   "cell_type": "code",
   "execution_count": 54,
   "metadata": {},
   "outputs": [
    {
     "name": "stdout",
     "output_type": "stream",
     "text": [
      "1\n",
      "2\n",
      "3\n",
      "4\n",
      "5\n",
      "6\n",
      "7\n",
      "8\n",
      "9\n"
     ]
    }
   ],
   "source": [
    "for i in range(1, 10, 1):\n",
    "    print(i)"
   ]
  },
  {
   "cell_type": "code",
   "execution_count": 58,
   "metadata": {},
   "outputs": [
    {
     "name": "stdout",
     "output_type": "stream",
     "text": [
      "1 No\n",
      "2 No\n",
      "3 No\n",
      "4 No\n",
      "5 No\n",
      "6 No\n",
      "7 No\n",
      "8 No\n",
      "9 No\n",
      "10 Yes\n",
      "11 No\n",
      "12 No\n",
      "13 No\n",
      "14 No\n",
      "15 No\n",
      "16 No\n",
      "17 No\n",
      "18 No\n",
      "19 No\n",
      "20 Yes\n"
     ]
    }
   ],
   "source": [
    "## for the numbers between 1, 20 Check if a number is div by both 2 and 5: Print(\"yES\"), eLSE :PRINT(\"no\")\n",
    "\n",
    "for i in range(1, 21):\n",
    "    if i%2==0:\n",
    "        if i %5==0:\n",
    "            print(i, \"Yes\")\n",
    "        else:\n",
    "            print(i, \"No\")\n",
    "    else:\n",
    "        print(i, \"No\")"
   ]
  },
  {
   "cell_type": "code",
   "execution_count": 62,
   "metadata": {},
   "outputs": [
    {
     "name": "stdout",
     "output_type": "stream",
     "text": [
      "False\n",
      "False\n",
      "False\n",
      "True\n"
     ]
    }
   ],
   "source": [
    "print(True and False)\n",
    "print(False and True)\n",
    "print(False and False)\n",
    "print(True and True)"
   ]
  },
  {
   "cell_type": "code",
   "execution_count": 59,
   "metadata": {},
   "outputs": [
    {
     "name": "stdout",
     "output_type": "stream",
     "text": [
      "1 No\n",
      "2 No\n",
      "3 No\n",
      "4 No\n",
      "5 No\n",
      "6 No\n",
      "7 No\n",
      "8 No\n",
      "9 No\n",
      "10 Yes\n",
      "11 No\n",
      "12 No\n",
      "13 No\n",
      "14 No\n",
      "15 No\n",
      "16 No\n",
      "17 No\n",
      "18 No\n",
      "19 No\n",
      "20 Yes\n"
     ]
    }
   ],
   "source": [
    "for i in range(1, 21):\n",
    "    if i%2==0 and i%5==0:\n",
    "        print(i, \"Yes\")\n",
    "    else:\n",
    "        print(i, \"No\")"
   ]
  },
  {
   "cell_type": "markdown",
   "metadata": {},
   "source": [
    "### Break Continue and Pass"
   ]
  },
  {
   "cell_type": "code",
   "execution_count": 63,
   "metadata": {},
   "outputs": [
    {
     "name": "stdout",
     "output_type": "stream",
     "text": [
      "1\n",
      "2\n",
      "3\n",
      "4\n",
      "5\n"
     ]
    }
   ],
   "source": [
    "for i in range(1, 11):\n",
    "    print(i)\n",
    "    if i==5:\n",
    "        break"
   ]
  },
  {
   "cell_type": "code",
   "execution_count": 70,
   "metadata": {},
   "outputs": [
    {
     "name": "stdout",
     "output_type": "stream",
     "text": [
      "1\n",
      "2\n",
      "3\n",
      "4\n",
      "6\n",
      "7\n",
      "8\n",
      "9\n",
      "10\n"
     ]
    }
   ],
   "source": [
    "for i in range(1,11):\n",
    "    if i==5:\n",
    "        continue\n",
    "    else:\n",
    "        print(i)"
   ]
  },
  {
   "cell_type": "code",
   "execution_count": 68,
   "metadata": {},
   "outputs": [
    {
     "name": "stdout",
     "output_type": "stream",
     "text": [
      "2\n",
      "4\n",
      "6\n",
      "8\n",
      "10\n"
     ]
    }
   ],
   "source": [
    "for i in range(1,11):\n",
    "    if i%2==0:\n",
    "        print(i)\n",
    "    if i%3==0:\n",
    "        pass"
   ]
  },
  {
   "cell_type": "code",
   "execution_count": 102,
   "metadata": {},
   "outputs": [
    {
     "name": "stdout",
     "output_type": "stream",
     "text": [
      "Enter a number:7\n",
      "7 is a Prime Number\n"
     ]
    }
   ],
   "source": [
    "## Check if the number is a prime number or not\n",
    "num = int(input(\"Enter a number:\"))\n",
    "\n",
    "if num>1:\n",
    "    for i in range(2, num):\n",
    "        if num%i ==0:\n",
    "            print(num, \"is not a Prime number\")\n",
    "            break\n",
    "        else:\n",
    "            print(num, \"is a Prime Number\")\n",
    "            break\n",
    "else:\n",
    "    print(num, \"is not a Prime Number\")"
   ]
  },
  {
   "cell_type": "code",
   "execution_count": 103,
   "metadata": {},
   "outputs": [
    {
     "name": "stdout",
     "output_type": "stream",
     "text": [
      "Enter a number:7\n",
      "7 is a Prime Number\n"
     ]
    }
   ],
   "source": [
    "num = int(input(\"Enter a number:\"))\n",
    "\n",
    "if num>1:\n",
    "    for i in range(2, num):\n",
    "        if num%i ==0:\n",
    "            print(num, \"is not a Prime number\")\n",
    "            break\n",
    "    else:\n",
    "        print(num, \"is a Prime Number\")\n",
    "\n",
    "else:\n",
    "    print(num, \"is not a Prime Number\")"
   ]
  },
  {
   "cell_type": "code",
   "execution_count": 77,
   "metadata": {},
   "outputs": [
    {
     "data": {
      "text/plain": [
       "1"
      ]
     },
     "execution_count": 77,
     "metadata": {},
     "output_type": "execute_result"
    }
   ],
   "source": [
    "5%4"
   ]
  },
  {
   "cell_type": "code",
   "execution_count": null,
   "metadata": {},
   "outputs": [],
   "source": [
    "2,3,4\n",
    "5%2==0\n",
    "5%3==0\n",
    "5%4==0"
   ]
  },
  {
   "cell_type": "code",
   "execution_count": 84,
   "metadata": {},
   "outputs": [
    {
     "data": {
      "text/plain": [
       "0"
      ]
     },
     "execution_count": 84,
     "metadata": {},
     "output_type": "execute_result"
    }
   ],
   "source": [
    "2,3,4,5,6\n",
    "7%7"
   ]
  },
  {
   "cell_type": "code",
   "execution_count": null,
   "metadata": {},
   "outputs": [],
   "source": [
    "6\n",
    "\n",
    "2,3,4,5,\n",
    "6%2==0"
   ]
  },
  {
   "cell_type": "code",
   "execution_count": 104,
   "metadata": {},
   "outputs": [
    {
     "name": "stdout",
     "output_type": "stream",
     "text": [
      "1\n",
      "2\n",
      "3\n",
      "4\n"
     ]
    }
   ],
   "source": [
    "# For loop with Lists, Strings and Dictionaries\n",
    "\n",
    "ls = [1,2,3,4]\n",
    "for i in ls:\n",
    "    print(i)"
   ]
  },
  {
   "cell_type": "code",
   "execution_count": 105,
   "metadata": {},
   "outputs": [
    {
     "name": "stdout",
     "output_type": "stream",
     "text": [
      "S\n",
      "e\n",
      "s\n",
      "s\n",
      "i\n",
      "o\n",
      "n\n",
      " \n",
      "W\n",
      "i\n",
      "t\n",
      "h\n",
      " \n",
      "S\n",
      "u\n",
      "m\n",
      "i\n",
      "t\n"
     ]
    }
   ],
   "source": [
    "ss = \"Session With Sumit\"\n",
    "for i in ss:\n",
    "    print(i)"
   ]
  },
  {
   "cell_type": "code",
   "execution_count": 118,
   "metadata": {},
   "outputs": [
    {
     "name": "stdout",
     "output_type": "stream",
     "text": [
      "A Apple\n",
      "B Ball\n",
      "C Cat\n"
     ]
    }
   ],
   "source": [
    "d = {\"A\": \"Apple\", \"B\":\"Ball\", \"C\":\"Cat\"}\n",
    "for i,j in d.items():\n",
    "    print(i,j)"
   ]
  },
  {
   "cell_type": "code",
   "execution_count": 113,
   "metadata": {},
   "outputs": [
    {
     "data": {
      "text/plain": [
       "dict_items([('A', 'Apple'), ('B', 'Ball'), ('C', 'Cat')])"
      ]
     },
     "execution_count": 113,
     "metadata": {},
     "output_type": "execute_result"
    }
   ],
   "source": [
    "d.items()"
   ]
  },
  {
   "cell_type": "code",
   "execution_count": 121,
   "metadata": {},
   "outputs": [
    {
     "name": "stdout",
     "output_type": "stream",
     "text": [
      "Cat\n",
      "Dog\n"
     ]
    }
   ],
   "source": [
    "# Find the value of that key which is div by 2\n",
    "\n",
    "d = {1:\"Apple\", 2:\"Cat\", 3:\"Boy\", 4:\"Dog\"}\n",
    "\n",
    "for i, j in d.items():\n",
    "    if i%2==0:\n",
    "        print(j)\n",
    "    else:\n",
    "        pass"
   ]
  },
  {
   "cell_type": "code",
   "execution_count": 124,
   "metadata": {},
   "outputs": [],
   "source": [
    "# Question\n",
    "ls = [2,4,7,9,10,22,12,34,55,78,45,89,34,8,9,56]\n",
    "# Count how many numbers are div by 2\n",
    "\n",
    "c = 0\n",
    "\n",
    "for i  in ls:\n",
    "    if i%2==0:\n",
    "        #c = c+1\n",
    "        c+=1\n",
    "    else:\n",
    "        pass"
   ]
  },
  {
   "cell_type": "code",
   "execution_count": 125,
   "metadata": {},
   "outputs": [
    {
     "data": {
      "text/plain": [
       "10"
      ]
     },
     "execution_count": 125,
     "metadata": {},
     "output_type": "execute_result"
    }
   ],
   "source": [
    "c"
   ]
  },
  {
   "cell_type": "code",
   "execution_count": 126,
   "metadata": {},
   "outputs": [
    {
     "data": {
      "text/plain": [
       "16"
      ]
     },
     "execution_count": 126,
     "metadata": {},
     "output_type": "execute_result"
    }
   ],
   "source": [
    "ls = [2,4,7,9,10,22,12,34,55,78,45,89,34,8,9,56, \" \"]\n",
    "len(ls)"
   ]
  },
  {
   "cell_type": "code",
   "execution_count": 129,
   "metadata": {},
   "outputs": [],
   "source": [
    "c = 0\n",
    "for i in ls:\n",
    "        c = c+1"
   ]
  },
  {
   "cell_type": "code",
   "execution_count": 130,
   "metadata": {},
   "outputs": [
    {
     "data": {
      "text/plain": [
       "16"
      ]
     },
     "execution_count": 130,
     "metadata": {},
     "output_type": "execute_result"
    }
   ],
   "source": [
    "c"
   ]
  },
  {
   "cell_type": "code",
   "execution_count": 132,
   "metadata": {},
   "outputs": [
    {
     "data": {
      "text/plain": [
       "[(0, 'a'),\n",
       " (1, 'b'),\n",
       " (2, 'c'),\n",
       " (3, 'd'),\n",
       " (4, 'e'),\n",
       " (5, 'f'),\n",
       " (6, 'g'),\n",
       " (7, 'h')]"
      ]
     },
     "execution_count": 132,
     "metadata": {},
     "output_type": "execute_result"
    }
   ],
   "source": [
    "# Operators\n",
    "\n",
    "#Enumerate\n",
    "# Zip\n",
    "\n",
    "ls = [\"a\", \"b\", \"c\", \"d\", \"e\", \"f\", \"g\", \"h\"]\n",
    "\n",
    "# Print \"Yes\" for elements in the even index position and \"No\" for odd index position\n",
    "\n",
    "list(enumerate(ls))"
   ]
  },
  {
   "cell_type": "code",
   "execution_count": 134,
   "metadata": {},
   "outputs": [],
   "source": [
    "ls1 = []\n",
    "for i, j in enumerate(ls):\n",
    "    if i%2==0:\n",
    "        ls1.append(\"Yes\")\n",
    "    else:\n",
    "        ls1.append(\"No\")"
   ]
  },
  {
   "cell_type": "code",
   "execution_count": 135,
   "metadata": {},
   "outputs": [
    {
     "data": {
      "text/plain": [
       "['Yes', 'No', 'Yes', 'No', 'Yes', 'No', 'Yes', 'No']"
      ]
     },
     "execution_count": 135,
     "metadata": {},
     "output_type": "execute_result"
    }
   ],
   "source": [
    "ls1"
   ]
  },
  {
   "cell_type": "code",
   "execution_count": 136,
   "metadata": {},
   "outputs": [
    {
     "data": {
      "text/plain": [
       "['Yes', 'No', 'Yes', 'No', 'Yes', 'No', 'Yes', 'No']"
      ]
     },
     "execution_count": 136,
     "metadata": {},
     "output_type": "execute_result"
    }
   ],
   "source": [
    "# zip\n",
    "\n",
    "ls1"
   ]
  },
  {
   "cell_type": "code",
   "execution_count": 137,
   "metadata": {},
   "outputs": [
    {
     "data": {
      "text/plain": [
       "['a', 'b', 'c', 'd', 'e', 'f', 'g', 'h']"
      ]
     },
     "execution_count": 137,
     "metadata": {},
     "output_type": "execute_result"
    }
   ],
   "source": [
    "ls"
   ]
  },
  {
   "cell_type": "code",
   "execution_count": 141,
   "metadata": {},
   "outputs": [],
   "source": [
    "ls2 = [1,2,3,4,5,6,7,8]"
   ]
  },
  {
   "cell_type": "code",
   "execution_count": 142,
   "metadata": {},
   "outputs": [
    {
     "data": {
      "text/plain": [
       "[('a', 'Yes', 1),\n",
       " ('b', 'No', 2),\n",
       " ('c', 'Yes', 3),\n",
       " ('d', 'No', 4),\n",
       " ('e', 'Yes', 5),\n",
       " ('f', 'No', 6),\n",
       " ('g', 'Yes', 7),\n",
       " ('h', 'No', 8)]"
      ]
     },
     "execution_count": 142,
     "metadata": {},
     "output_type": "execute_result"
    }
   ],
   "source": [
    "list(zip(ls, ls1, ls2))"
   ]
  },
  {
   "cell_type": "code",
   "execution_count": 143,
   "metadata": {},
   "outputs": [
    {
     "data": {
      "text/plain": [
       "[(1, 'Yes'), (2, 'No')]"
      ]
     },
     "execution_count": 143,
     "metadata": {},
     "output_type": "execute_result"
    }
   ],
   "source": [
    "ls1 = [1,2,3]\n",
    "ls = ['Yes', 'No']\n",
    "list(zip(ls1, ls))"
   ]
  },
  {
   "cell_type": "markdown",
   "metadata": {},
   "source": [
    "## While Loop"
   ]
  },
  {
   "cell_type": "code",
   "execution_count": 151,
   "metadata": {},
   "outputs": [
    {
     "data": {
      "text/plain": [
       "True"
      ]
     },
     "execution_count": 151,
     "metadata": {},
     "output_type": "execute_result"
    }
   ],
   "source": [
    "a = 10\n",
    "\n",
    "a<15"
   ]
  },
  {
   "cell_type": "code",
   "execution_count": 144,
   "metadata": {},
   "outputs": [
    {
     "name": "stdout",
     "output_type": "stream",
     "text": [
      "Sumit\n",
      "Sumit\n",
      "Sumit\n",
      "Sumit\n",
      "Sumit\n",
      "Sumit\n",
      "Sumit\n",
      "Sumit\n",
      "Sumit\n",
      "Sumit\n"
     ]
    }
   ],
   "source": [
    "a = 0\n",
    "\n",
    "while a<10:\n",
    "    print(\"Sumit\")\n",
    "    a+=1"
   ]
  },
  {
   "cell_type": "code",
   "execution_count": 146,
   "metadata": {},
   "outputs": [
    {
     "data": {
      "text/plain": [
       "False"
      ]
     },
     "execution_count": 146,
     "metadata": {},
     "output_type": "execute_result"
    }
   ],
   "source": [
    "\"1234a\".isnumeric()"
   ]
  },
  {
   "cell_type": "code",
   "execution_count": 147,
   "metadata": {},
   "outputs": [
    {
     "data": {
      "text/plain": [
       "10"
      ]
     },
     "execution_count": 147,
     "metadata": {},
     "output_type": "execute_result"
    }
   ],
   "source": [
    "len(\"1234567990\")"
   ]
  },
  {
   "cell_type": "code",
   "execution_count": 150,
   "metadata": {},
   "outputs": [
    {
     "name": "stdout",
     "output_type": "stream",
     "text": [
      "Enter your mobile number:Sumit\n",
      "Enter your mobile number:Shukla\n",
      "Enter your mobile number:123\n",
      "Enter your mobile number:123456789a\n",
      "Enter your mobile number:1234567890\n",
      "1234567890\n"
     ]
    }
   ],
   "source": [
    "# Write a code to check if the input number from the user is a valid mobile number or not?\n",
    "\n",
    "# LEN(NUMBER)==10\n",
    "# It should be all number\n",
    "\n",
    "# The code should not end until the correct mobile number is entered\n",
    "\n",
    "while True:\n",
    "    a  = input(\"Enter your mobile number:\")\n",
    "    if len(a)==10 and a.isnumeric():\n",
    "        print(a)\n",
    "        break\n",
    "    else:\n",
    "        continue"
   ]
  },
  {
   "cell_type": "code",
   "execution_count": 154,
   "metadata": {},
   "outputs": [
    {
     "name": "stdout",
     "output_type": "stream",
     "text": [
      "1\n",
      "4\n",
      "9\n",
      "16\n",
      "36\n",
      "49\n",
      "64\n",
      "81\n",
      "100\n"
     ]
    }
   ],
   "source": [
    "a = 0\n",
    "while a<10:\n",
    "    a+=1\n",
    "    if a*a==25:\n",
    "        pass\n",
    "    else:\n",
    "        print(a*a)"
   ]
  }
 ],
 "metadata": {
  "kernelspec": {
   "display_name": "Python 3",
   "language": "python",
   "name": "python3"
  },
  "language_info": {
   "codemirror_mode": {
    "name": "ipython",
    "version": 3
   },
   "file_extension": ".py",
   "mimetype": "text/x-python",
   "name": "python",
   "nbconvert_exporter": "python",
   "pygments_lexer": "ipython3",
   "version": "3.7.4"
  }
 },
 "nbformat": 4,
 "nbformat_minor": 2
}
