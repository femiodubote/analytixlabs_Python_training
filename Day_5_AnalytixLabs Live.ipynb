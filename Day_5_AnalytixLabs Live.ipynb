{
 "cells": [
  {
   "cell_type": "raw",
   "metadata": {},
   "source": [
    "* * * * * *"
   ]
  },
  {
   "cell_type": "code",
   "execution_count": 8,
   "metadata": {},
   "outputs": [
    {
     "name": "stdout",
     "output_type": "stream",
     "text": [
      "Enter a number: 10\n",
      "*+*+*+*+*+*+*+*+*+*+"
     ]
    }
   ],
   "source": [
    "n=  int(input(\"Enter a number: \"))\n",
    "for i in range(n):\n",
    "    print('*', end = \"+\")"
   ]
  },
  {
   "cell_type": "code",
   "execution_count": 2,
   "metadata": {},
   "outputs": [
    {
     "name": "stdout",
     "output_type": "stream",
     "text": [
      "Help on built-in function print in module builtins:\n",
      "\n",
      "print(...)\n",
      "    print(value, ..., sep=' ', end='\\n', file=sys.stdout, flush=False)\n",
      "    \n",
      "    Prints the values to a stream, or to sys.stdout by default.\n",
      "    Optional keyword arguments:\n",
      "    file:  a file-like object (stream); defaults to the current sys.stdout.\n",
      "    sep:   string inserted between values, default a space.\n",
      "    end:   string appended after the last value, default a newline.\n",
      "    flush: whether to forcibly flush the stream.\n",
      "\n"
     ]
    }
   ],
   "source": [
    "help(print)"
   ]
  },
  {
   "cell_type": "raw",
   "metadata": {},
   "source": [
    "n = 4\n",
    "\n",
    "i = 0: * * * *\n",
    "i = 1: * * * *\n",
    "i = 2: * * * *\n",
    "i = 3: * * * *"
   ]
  },
  {
   "cell_type": "code",
   "execution_count": null,
   "metadata": {},
   "outputs": [],
   "source": [
    "range(4)\n",
    "#0,1,2,3"
   ]
  },
  {
   "cell_type": "code",
   "execution_count": 12,
   "metadata": {},
   "outputs": [
    {
     "name": "stdout",
     "output_type": "stream",
     "text": [
      "* * * * * * * * * * \n",
      "* * * * * * * * * * \n",
      "* * * * * * * * * * \n",
      "* * * * * * * * * * \n",
      "* * * * * * * * * * \n",
      "* * * * * * * * * * \n",
      "* * * * * * * * * * \n",
      "* * * * * * * * * * \n",
      "* * * * * * * * * * \n",
      "* * * * * * * * * * \n"
     ]
    }
   ],
   "source": [
    "n = 10\n",
    "for i in range(n):\n",
    "    print(\"* \"*n)"
   ]
  },
  {
   "cell_type": "raw",
   "metadata": {},
   "source": [
    "n = 3\n",
    "\n",
    "3 3 3\n",
    "3 3 3\n",
    "3 3 3\n",
    "\n",
    "n = 5\n",
    "\n",
    "5 5 5 5 5\n",
    "5 5 5 5 5\n",
    "5 5 5 5 5\n",
    "5 5 5 5 5\n",
    "5 5 5 5 5"
   ]
  },
  {
   "cell_type": "code",
   "execution_count": 21,
   "metadata": {},
   "outputs": [
    {
     "name": "stdout",
     "output_type": "stream",
     "text": [
      "9 9 9 9 9 9 9 9 9 \n",
      "9 9 9 9 9 9 9 9 9 \n",
      "9 9 9 9 9 9 9 9 9 \n",
      "9 9 9 9 9 9 9 9 9 \n",
      "9 9 9 9 9 9 9 9 9 \n",
      "9 9 9 9 9 9 9 9 9 \n",
      "9 9 9 9 9 9 9 9 9 \n",
      "9 9 9 9 9 9 9 9 9 \n",
      "9 9 9 9 9 9 9 9 9 \n"
     ]
    }
   ],
   "source": [
    "n = 9\n",
    "for i in range(n):\n",
    "    print((str(n)+ \" \")*n)"
   ]
  },
  {
   "cell_type": "code",
   "execution_count": 18,
   "metadata": {},
   "outputs": [
    {
     "data": {
      "text/plain": [
       "'55555'"
      ]
     },
     "execution_count": 18,
     "metadata": {},
     "output_type": "execute_result"
    }
   ],
   "source": [
    "n = 5\n",
    "str(n)*n"
   ]
  },
  {
   "cell_type": "code",
   "execution_count": 17,
   "metadata": {},
   "outputs": [
    {
     "data": {
      "text/plain": [
       "'55555'"
      ]
     },
     "execution_count": 17,
     "metadata": {},
     "output_type": "execute_result"
    }
   ],
   "source": [
    "n = 5\n",
    "\"5\"*5"
   ]
  },
  {
   "cell_type": "raw",
   "metadata": {},
   "source": [
    "n = 5\n",
    "\n",
    "A\n",
    "B B\n",
    "C C C\n",
    "D D D D\n",
    "E E E E E"
   ]
  },
  {
   "cell_type": "code",
   "execution_count": 29,
   "metadata": {},
   "outputs": [
    {
     "data": {
      "text/plain": [
       "'C'"
      ]
     },
     "execution_count": 29,
     "metadata": {},
     "output_type": "execute_result"
    }
   ],
   "source": [
    "chr(67)"
   ]
  },
  {
   "cell_type": "code",
   "execution_count": 31,
   "metadata": {},
   "outputs": [
    {
     "name": "stdout",
     "output_type": "stream",
     "text": [
      "Enter a number:5\n",
      "A \n",
      "B B \n",
      "C C C \n",
      "D D D D \n",
      "E E E E E \n"
     ]
    }
   ],
   "source": [
    "n =  int(input(\"Enter a number:\"))\n",
    "for i in range(n):\n",
    "    print((chr(65+i)+\" \")*(i+1))"
   ]
  },
  {
   "cell_type": "raw",
   "metadata": {},
   "source": [
    "* * * *\n",
    "* * *\n",
    "* *\n",
    "*"
   ]
  },
  {
   "cell_type": "code",
   "execution_count": 33,
   "metadata": {},
   "outputs": [
    {
     "name": "stdout",
     "output_type": "stream",
     "text": [
      "Enter a number: 10\n",
      "* * * * * * * * * * \n",
      "* * * * * * * * * \n",
      "* * * * * * * * \n",
      "* * * * * * * \n",
      "* * * * * * \n",
      "* * * * * \n",
      "* * * * \n",
      "* * * \n",
      "* * \n",
      "* \n"
     ]
    }
   ],
   "source": [
    "n =  int(input(\"Enter a number: \"))\n",
    "for i in range(n):\n",
    "    print(\"* \"*(n-i))"
   ]
  },
  {
   "cell_type": "raw",
   "metadata": {},
   "source": [
    "1 2 3 4 5 \n",
    "1 2 3 4 \n",
    "1 2 3 \n",
    "1 2 \n",
    "1 "
   ]
  },
  {
   "cell_type": "code",
   "execution_count": 39,
   "metadata": {},
   "outputs": [
    {
     "name": "stdout",
     "output_type": "stream",
     "text": [
      "Enter a number: 5\n",
      "1 2 3 4 5 \n",
      "1 2 3 4 \n",
      "1 2 3 \n",
      "1 2 \n",
      "1 \n"
     ]
    }
   ],
   "source": [
    "n = int(input(\"Enter a number: \"))\n",
    "for i in range(n):\n",
    "    for j in range(n-i):\n",
    "        print(j+1, end = \" \")\n",
    "    print()"
   ]
  },
  {
   "cell_type": "raw",
   "metadata": {},
   "source": [
    "    1 \n",
    "   2 2 \n",
    "  3 3 3 \n",
    " 4 4 4 4 \n",
    "5 5 5 5 5"
   ]
  },
  {
   "cell_type": "code",
   "execution_count": 40,
   "metadata": {},
   "outputs": [
    {
     "name": "stdout",
     "output_type": "stream",
     "text": [
      "Enter a number:5\n",
      "    1 \n",
      "   2 2 \n",
      "  3 3 3 \n",
      " 4 4 4 4 \n",
      "5 5 5 5 5 \n"
     ]
    }
   ],
   "source": [
    "n = int(input(\"Enter a number:\"))\n",
    "\n",
    "for i in range(n):\n",
    "    print(\" \"*(n-i-1)+(str(i+1)+\" \")*(i+1))"
   ]
  },
  {
   "cell_type": "raw",
   "metadata": {},
   "source": [
    "    E\n",
    "   E D\n",
    "  E D B\n",
    "`E D B C\n",
    "E D B C A"
   ]
  },
  {
   "cell_type": "code",
   "execution_count": 44,
   "metadata": {},
   "outputs": [
    {
     "name": "stdout",
     "output_type": "stream",
     "text": [
      "Enter a number:8\n",
      "       H \n",
      "      H G \n",
      "     H G F \n",
      "    H G F E \n",
      "   H G F E D \n",
      "  H G F E D C \n",
      " H G F E D C B \n",
      "H G F E D C B A \n"
     ]
    }
   ],
   "source": [
    "n = int(input(\"Enter a number:\"))\n",
    "\n",
    "for i in range(n):\n",
    "    print(\" \"*(n-i-1), end = \"\")\n",
    "    for j in range(i+1):\n",
    "        print(chr(64+(n-j)), end = \" \")\n",
    "    print()"
   ]
  },
  {
   "cell_type": "raw",
   "metadata": {},
   "source": [
    "A \n",
    "A B \n",
    "A B C \n",
    "A B C D \n",
    "A B C D E \n",
    "A B C D \n",
    "A B C \n",
    "A B \n",
    "A "
   ]
  },
  {
   "cell_type": "code",
   "execution_count": 48,
   "metadata": {},
   "outputs": [
    {
     "name": "stdout",
     "output_type": "stream",
     "text": [
      "Enter a number: 10\n",
      "A \n",
      "A B \n",
      "A B C \n",
      "A B C D \n",
      "A B C D E \n",
      "A B C D E F \n",
      "A B C D E F G \n",
      "A B C D E F G H \n",
      "A B C D E F G H I \n",
      "A B C D E F G H I J \n",
      "A B C D E F G H I \n",
      "A B C D E F G H \n",
      "A B C D E F G \n",
      "A B C D E F \n",
      "A B C D E \n",
      "A B C D \n",
      "A B C \n",
      "A B \n",
      "A \n"
     ]
    }
   ],
   "source": [
    "n = int(input(\"Enter a number: \"))\n",
    "\n",
    "k = n+(n-1)\n",
    "\n",
    "for i in range(k):\n",
    "    if i<n:\n",
    "        for j in range(i+1):\n",
    "            print(chr(65+j), end = \" \")\n",
    "        print()\n",
    "    else:\n",
    "        for j in range(k-i):\n",
    "            print(chr(65+j), end = \" \")\n",
    "        print()"
   ]
  },
  {
   "cell_type": "raw",
   "metadata": {},
   "source": [
    "A B C D \n",
    " A B C \n",
    "  A B \n",
    "   A"
   ]
  },
  {
   "cell_type": "code",
   "execution_count": 51,
   "metadata": {},
   "outputs": [
    {
     "name": "stdout",
     "output_type": "stream",
     "text": [
      "Enter a number:10\n",
      "A B C D E F G H I J \n",
      " A B C D E F G H I \n",
      "  A B C D E F G H \n",
      "   A B C D E F G \n",
      "    A B C D E F \n",
      "     A B C D E \n",
      "      A B C D \n",
      "       A B C \n",
      "        A B \n",
      "         A \n"
     ]
    }
   ],
   "source": [
    "n = int(input(\"Enter a number:\"))\n",
    "for i in range(n):\n",
    "    print(\" \"*i, end = \"\")\n",
    "    for j in range(n-i):\n",
    "        print(chr(65+j), end = \" \")\n",
    "    print()"
   ]
  },
  {
   "cell_type": "raw",
   "metadata": {},
   "source": [
    "   *\n",
    "  * *\n",
    " * * *\n",
    "* * * *\n",
    " * * *\n",
    "  * *\n",
    "   *"
   ]
  },
  {
   "cell_type": "code",
   "execution_count": 54,
   "metadata": {},
   "outputs": [
    {
     "name": "stdout",
     "output_type": "stream",
     "text": [
      "Enter a number: 10\n",
      "         * \n",
      "        * * \n",
      "       * * * \n",
      "      * * * * \n",
      "     * * * * * \n",
      "    * * * * * * \n",
      "   * * * * * * * \n",
      "  * * * * * * * * \n",
      " * * * * * * * * * \n",
      "* * * * * * * * * * \n",
      " * * * * * * * * * \n",
      "  * * * * * * * * \n",
      "   * * * * * * * \n",
      "    * * * * * * \n",
      "     * * * * * \n",
      "      * * * * \n",
      "       * * * \n",
      "        * * \n",
      "         * \n"
     ]
    }
   ],
   "source": [
    "n =  int(input(\"Enter a number: \"))\n",
    "\n",
    "k = n+(n-1)\n",
    "\n",
    "for i in range(k):\n",
    "    if i<n:\n",
    "        print(\" \"*(n-i-1)+ \"* \"*(i+1))\n",
    "    else:\n",
    "        print(\" \"*(i-n+1)+ \"* \"*(k-i))"
   ]
  },
  {
   "cell_type": "raw",
   "metadata": {},
   "source": [
    "*\n",
    "* *\n",
    "* * *\n",
    "* *\n",
    "*"
   ]
  },
  {
   "cell_type": "code",
   "execution_count": 55,
   "metadata": {},
   "outputs": [
    {
     "name": "stdout",
     "output_type": "stream",
     "text": [
      "Enter a number: 5\n",
      "* \n",
      "* * \n",
      "* * * \n",
      "* * * * \n",
      "* * * * * \n",
      "* * * * \n",
      "* * * \n",
      "* * \n",
      "* \n"
     ]
    }
   ],
   "source": [
    "n = int(input(\"Enter a number: \"))\n",
    "k = n+(n-1)\n",
    "for i in range(k):\n",
    "    if i <n:\n",
    "        print(\"* \"*(i+1))\n",
    "    else:\n",
    "        print(\"* \"*(k-i))"
   ]
  },
  {
   "cell_type": "raw",
   "metadata": {},
   "source": [
    "        *\n",
    "      * *\n",
    "    * * *\n",
    "  * * * *\n",
    "* * * * *\n",
    "  * * * *\n",
    "    * * *\n",
    "      * *\n",
    "        *"
   ]
  },
  {
   "cell_type": "code",
   "execution_count": 57,
   "metadata": {},
   "outputs": [
    {
     "name": "stdout",
     "output_type": "stream",
     "text": [
      "Enter a number:10\n",
      "         *\n",
      "        **\n",
      "       ***\n",
      "      ****\n",
      "     *****\n",
      "    ******\n",
      "   *******\n",
      "  ********\n",
      " *********\n",
      "**********\n",
      " *********\n",
      "  ********\n",
      "   *******\n",
      "    ******\n",
      "     *****\n",
      "      ****\n",
      "       ***\n",
      "        **\n",
      "         *\n"
     ]
    }
   ],
   "source": [
    "n = int(input(\"Enter a number:\"))\n",
    "k = n+(n-1)\n",
    "\n",
    "for i in range(k):\n",
    "    if i<n:\n",
    "        print(\" \"*(n-i-1)+\"*\"*(i+1))\n",
    "    else:\n",
    "        print(\" \"*(i-n+1)+\"*\"*(k-i))"
   ]
  }
 ],
 "metadata": {
  "kernelspec": {
   "display_name": "Python 3",
   "language": "python",
   "name": "python3"
  },
  "language_info": {
   "codemirror_mode": {
    "name": "ipython",
    "version": 3
   },
   "file_extension": ".py",
   "mimetype": "text/x-python",
   "name": "python",
   "nbconvert_exporter": "python",
   "pygments_lexer": "ipython3",
   "version": "3.7.4"
  }
 },
 "nbformat": 4,
 "nbformat_minor": 2
}
