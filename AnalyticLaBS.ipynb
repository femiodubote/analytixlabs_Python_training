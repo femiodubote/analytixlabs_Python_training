{
  "nbformat": 4,
  "nbformat_minor": 0,
  "metadata": {
    "colab": {
      "name": "AnalyticLaBS.ipynb",
      "provenance": [],
      "authorship_tag": "ABX9TyOeWX0FaeDEzN9B+iL7tMAL",
      "include_colab_link": true
    },
    "kernelspec": {
      "name": "python3",
      "display_name": "Python 3"
    }
  },
  "cells": [
    {
      "cell_type": "markdown",
      "metadata": {
        "id": "view-in-github",
        "colab_type": "text"
      },
      "source": [
        "<a href=\"https://colab.research.google.com/github/femiodubote/analytixlabs_Python_training/blob/master/AnalyticLaBS.ipynb\" target=\"_parent\"><img src=\"https://colab.research.google.com/assets/colab-badge.svg\" alt=\"Open In Colab\"/></a>"
      ]
    },
    {
      "cell_type": "code",
      "metadata": {
        "id": "j3GQhvVrGvcC"
      },
      "source": [
        "%matplotlib inline\r\n",
        "import pandas as pd\r\n",
        "import numpy as np\r\n",
        "import matplotlib.pyplot as plt\r\n",
        "import seaborn as sn\r\n",
        "from sklearn.preprocessing import LabelEncoder\r\n",
        "from sklearn.linear_model import LogisticRegression\r\n",
        "from sklearn.metrics import classification_report, confusion_matrix\r\n",
        "from sklearn.model_selection import train_test_split\r\n",
        "from sklearn.metrics import accuracy_score"
      ],
      "execution_count": 1,
      "outputs": []
    },
    {
      "cell_type": "code",
      "metadata": {
        "colab": {
          "base_uri": "https://localhost:8080/"
        },
        "id": "uSvekok0HGR-",
        "outputId": "91797deb-2d5a-48b2-be09-c5424cc6c48d"
      },
      "source": [
        "print('Hello World!!')\r\n",
        "# To run this code you need to press Shift+Enter"
      ],
      "execution_count": 2,
      "outputs": [
        {
          "output_type": "stream",
          "text": [
            "Hello World!!\n"
          ],
          "name": "stdout"
        }
      ]
    },
    {
      "cell_type": "code",
      "metadata": {
        "id": "jGwXmp2SHGtk"
      },
      "source": [
        "#Integer\r\n",
        "# Here the 'a' is a variable\r\n",
        "a = 12"
      ],
      "execution_count": 3,
      "outputs": []
    },
    {
      "cell_type": "code",
      "metadata": {
        "colab": {
          "base_uri": "https://localhost:8080/"
        },
        "id": "ZG5W-SS9HG_c",
        "outputId": "1cabb2df-d296-4bf7-fb79-24eec03d1438"
      },
      "source": [
        "print(a)"
      ],
      "execution_count": 4,
      "outputs": [
        {
          "output_type": "stream",
          "text": [
            "12\n"
          ],
          "name": "stdout"
        }
      ]
    },
    {
      "cell_type": "code",
      "metadata": {
        "id": "97O50wo2J0Q4"
      },
      "source": [
        "# Float\r\n",
        "\r\n",
        "b = 13.547"
      ],
      "execution_count": 5,
      "outputs": []
    },
    {
      "cell_type": "code",
      "metadata": {
        "colab": {
          "base_uri": "https://localhost:8080/"
        },
        "id": "Rs2CxuxTJ5mV",
        "outputId": "c4789a57-1ff7-4be4-87b7-6f234b57420e"
      },
      "source": [
        "print(b)"
      ],
      "execution_count": 6,
      "outputs": [
        {
          "output_type": "stream",
          "text": [
            "13.547\n"
          ],
          "name": "stdout"
        }
      ]
    },
    {
      "cell_type": "code",
      "metadata": {
        "id": "vCaMTY6PJ535"
      },
      "source": [
        "# String\r\n",
        "\r\n",
        "c = \"Session with Boteskey Ventures\""
      ],
      "execution_count": 7,
      "outputs": []
    },
    {
      "cell_type": "code",
      "metadata": {
        "colab": {
          "base_uri": "https://localhost:8080/"
        },
        "id": "cC77kT78J58s",
        "outputId": "1c072c11-2646-4914-e254-6fe12c34dffc"
      },
      "source": [
        "print(c)"
      ],
      "execution_count": 8,
      "outputs": [
        {
          "output_type": "stream",
          "text": [
            "Session with Boteskey Ventures\n"
          ],
          "name": "stdout"
        }
      ]
    },
    {
      "cell_type": "code",
      "metadata": {
        "colab": {
          "base_uri": "https://localhost:8080/"
        },
        "id": "UJyeVDzMKXHp",
        "outputId": "0e0f7956-cbda-4ea5-b326-b8bfce2a4503"
      },
      "source": [
        "type(a)"
      ],
      "execution_count": 9,
      "outputs": [
        {
          "output_type": "execute_result",
          "data": {
            "text/plain": [
              "int"
            ]
          },
          "metadata": {
            "tags": []
          },
          "execution_count": 9
        }
      ]
    },
    {
      "cell_type": "code",
      "metadata": {
        "colab": {
          "base_uri": "https://localhost:8080/"
        },
        "id": "Xs5mmh7FKcjh",
        "outputId": "0e5d24af-d5bc-456d-df7e-f7c8fa0c0d72"
      },
      "source": [
        "type(b)"
      ],
      "execution_count": 10,
      "outputs": [
        {
          "output_type": "execute_result",
          "data": {
            "text/plain": [
              "float"
            ]
          },
          "metadata": {
            "tags": []
          },
          "execution_count": 10
        }
      ]
    },
    {
      "cell_type": "code",
      "metadata": {
        "colab": {
          "base_uri": "https://localhost:8080/"
        },
        "id": "jwoN_s2PKeSI",
        "outputId": "aa568d7d-b0f6-4883-9bc2-9ec206cbee89"
      },
      "source": [
        "type(c)"
      ],
      "execution_count": 11,
      "outputs": [
        {
          "output_type": "execute_result",
          "data": {
            "text/plain": [
              "str"
            ]
          },
          "metadata": {
            "tags": []
          },
          "execution_count": 11
        }
      ]
    },
    {
      "cell_type": "code",
      "metadata": {
        "id": "ocLag5WDKgf4"
      },
      "source": [
        "d = True"
      ],
      "execution_count": 12,
      "outputs": []
    },
    {
      "cell_type": "code",
      "metadata": {
        "colab": {
          "base_uri": "https://localhost:8080/"
        },
        "id": "MEN9Y0mQKo06",
        "outputId": "71e96ddb-4e33-4a6a-b1bc-582057afc9ec"
      },
      "source": [
        "type(d)"
      ],
      "execution_count": 13,
      "outputs": [
        {
          "output_type": "execute_result",
          "data": {
            "text/plain": [
              "bool"
            ]
          },
          "metadata": {
            "tags": []
          },
          "execution_count": 13
        }
      ]
    },
    {
      "cell_type": "code",
      "metadata": {
        "colab": {
          "base_uri": "https://localhost:8080/"
        },
        "id": "Z1HvHYIBKqCc",
        "outputId": "0ae32947-05e3-4efa-f0bd-3275d1ae8584"
      },
      "source": [
        "# magic Coomand\r\n",
        "\r\n",
        "%whos"
      ],
      "execution_count": 14,
      "outputs": [
        {
          "output_type": "stream",
          "text": [
            "Variable                Type        Data/Info\n",
            "---------------------------------------------\n",
            "LabelEncoder            type        <class 'sklearn.preproces<...>ing._label.LabelEncoder'>\n",
            "LogisticRegression      type        <class 'sklearn.linear_mo<...>stic.LogisticRegression'>\n",
            "a                       int         12\n",
            "accuracy_score          function    <function accuracy_score at 0x7f0ee7622e60>\n",
            "b                       float       13.547\n",
            "c                       str         Session with Boteskey Ventures\n",
            "classification_report   function    <function classification_<...>report at 0x7f0ee7629830>\n",
            "confusion_matrix        function    <function confusion_matrix at 0x7f0ee7622ef0>\n",
            "d                       bool        True\n",
            "np                      module      <module 'numpy' from '/us<...>kages/numpy/__init__.py'>\n",
            "pd                      module      <module 'pandas' from '/u<...>ages/pandas/__init__.py'>\n",
            "plt                     module      <module 'matplotlib.pyplo<...>es/matplotlib/pyplot.py'>\n",
            "sn                      module      <module 'seaborn' from '/<...>ges/seaborn/__init__.py'>\n",
            "train_test_split        function    <function train_test_split at 0x7f0ee76018c0>\n"
          ],
          "name": "stdout"
        }
      ]
    },
    {
      "cell_type": "code",
      "metadata": {
        "id": "wnpK46WSK0bZ"
      },
      "source": [
        "# Data Objects are Collection of Data Types(Basic Data)\r\n",
        "\r\n",
        "#List\r\n",
        "#Tuple\r\n",
        "#Dictionaries\r\n",
        "#Sets"
      ],
      "execution_count": 15,
      "outputs": []
    },
    {
      "cell_type": "code",
      "metadata": {
        "id": "dfXQcom_K2Hn"
      },
      "source": [
        "# List is a Data object that can hold any kind of Data in Python\r\n",
        "\r\n",
        "# To create a List : you use a square brackets []\r\n",
        "\r\n",
        "list = [12, 45, 12.458, \"Session with Boteskey Ventures\", [1,2,3], True]"
      ],
      "execution_count": 16,
      "outputs": []
    },
    {
      "cell_type": "code",
      "metadata": {
        "colab": {
          "base_uri": "https://localhost:8080/"
        },
        "id": "van7wJCYK2Mu",
        "outputId": "2a1d19a9-22f7-4ea6-b4f8-f51c90ff7d8f"
      },
      "source": [
        "type(list)"
      ],
      "execution_count": 17,
      "outputs": [
        {
          "output_type": "execute_result",
          "data": {
            "text/plain": [
              "list"
            ]
          },
          "metadata": {
            "tags": []
          },
          "execution_count": 17
        }
      ]
    },
    {
      "cell_type": "code",
      "metadata": {
        "colab": {
          "base_uri": "https://localhost:8080/"
        },
        "id": "TjZx_dzWK2Rx",
        "outputId": "046974ca-6d26-4e91-e97a-31c8631bcb28"
      },
      "source": [
        "print(list)"
      ],
      "execution_count": 18,
      "outputs": [
        {
          "output_type": "stream",
          "text": [
            "[12, 45, 12.458, 'Session with Boteskey Ventures', [1, 2, 3], True]\n"
          ],
          "name": "stdout"
        }
      ]
    },
    {
      "cell_type": "code",
      "metadata": {
        "colab": {
          "base_uri": "https://localhost:8080/"
        },
        "id": "udFwKdjSK2Wx",
        "outputId": "22ab98ef-d5dc-4d99-d8b4-80421a33a423"
      },
      "source": [
        "list[0]\r\n",
        "\r\n",
        "# If we wanted to extract any data from any object, we will be using square brackets."
      ],
      "execution_count": 19,
      "outputs": [
        {
          "output_type": "execute_result",
          "data": {
            "text/plain": [
              "12"
            ]
          },
          "metadata": {
            "tags": []
          },
          "execution_count": 19
        }
      ]
    },
    {
      "cell_type": "code",
      "metadata": {
        "id": "h-L5_qy7OPdi",
        "colab": {
          "base_uri": "https://localhost:8080/"
        },
        "outputId": "dcd2cbf3-9f24-44c5-ca02-3ae1a801154b"
      },
      "source": [
        "# List [# Start index (included): end index (execluded) : step size]\r\n",
        "\r\n",
        "list[0:7]"
      ],
      "execution_count": 20,
      "outputs": [
        {
          "output_type": "execute_result",
          "data": {
            "text/plain": [
              "[12, 45, 12.458, 'Session with Boteskey Ventures', [1, 2, 3], True]"
            ]
          },
          "metadata": {
            "tags": []
          },
          "execution_count": 20
        }
      ]
    },
    {
      "cell_type": "code",
      "metadata": {
        "id": "apyjcIo0OPmn",
        "colab": {
          "base_uri": "https://localhost:8080/"
        },
        "outputId": "2589b42e-8795-4496-e889-0a9010c97f63"
      },
      "source": [
        "#[12,\"Session with Boteskey Ventures\", True]\r\n",
        "\r\n",
        "list[0:5:3]"
      ],
      "execution_count": 21,
      "outputs": [
        {
          "output_type": "execute_result",
          "data": {
            "text/plain": [
              "[12, 'Session with Boteskey Ventures']"
            ]
          },
          "metadata": {
            "tags": []
          },
          "execution_count": 21
        }
      ]
    },
    {
      "cell_type": "code",
      "metadata": {
        "id": "bUSCqGNGOPp4",
        "colab": {
          "base_uri": "https://localhost:8080/"
        },
        "outputId": "3f58c24d-632f-4247-85dc-a6c8dd79252b"
      },
      "source": [
        "#Python will by defualt will consider the first index and the very last index\r\n",
        "list[::2]"
      ],
      "execution_count": 22,
      "outputs": [
        {
          "output_type": "execute_result",
          "data": {
            "text/plain": [
              "[12, 12.458, [1, 2, 3]]"
            ]
          },
          "metadata": {
            "tags": []
          },
          "execution_count": 22
        }
      ]
    },
    {
      "cell_type": "code",
      "metadata": {
        "id": "nTlDRb2hOPwe",
        "colab": {
          "base_uri": "https://localhost:8080/"
        },
        "outputId": "d1f87152-6349-4016-cb02-461a7f981ec1"
      },
      "source": [
        "# Negative indexing\r\n",
        "\r\n",
        "list"
      ],
      "execution_count": 23,
      "outputs": [
        {
          "output_type": "execute_result",
          "data": {
            "text/plain": [
              "[12, 45, 12.458, 'Session with Boteskey Ventures', [1, 2, 3], True]"
            ]
          },
          "metadata": {
            "tags": []
          },
          "execution_count": 23
        }
      ]
    },
    {
      "cell_type": "code",
      "metadata": {
        "id": "vxVndLIhOP18",
        "colab": {
          "base_uri": "https://localhost:8080/"
        },
        "outputId": "675433a5-cef7-46ca-c617-14a71672cc0a"
      },
      "source": [
        "list[5]"
      ],
      "execution_count": 24,
      "outputs": [
        {
          "output_type": "execute_result",
          "data": {
            "text/plain": [
              "True"
            ]
          },
          "metadata": {
            "tags": []
          },
          "execution_count": 24
        }
      ]
    },
    {
      "cell_type": "code",
      "metadata": {
        "id": "8f70Aas3K2bv",
        "colab": {
          "base_uri": "https://localhost:8080/"
        },
        "outputId": "34097d78-24c0-4d1f-e732-30f9dbee649f"
      },
      "source": [
        "list[-1]\r\n",
        "# This is your last element from your list"
      ],
      "execution_count": 25,
      "outputs": [
        {
          "output_type": "execute_result",
          "data": {
            "text/plain": [
              "True"
            ]
          },
          "metadata": {
            "tags": []
          },
          "execution_count": 25
        }
      ]
    },
    {
      "cell_type": "code",
      "metadata": {
        "colab": {
          "base_uri": "https://localhost:8080/"
        },
        "id": "FeN4KZbnAw-q",
        "outputId": "e6bd0d3c-e812-4087-e173-4feec7def9ef"
      },
      "source": [
        "list[0]"
      ],
      "execution_count": 26,
      "outputs": [
        {
          "output_type": "execute_result",
          "data": {
            "text/plain": [
              "12"
            ]
          },
          "metadata": {
            "tags": []
          },
          "execution_count": 26
        }
      ]
    },
    {
      "cell_type": "code",
      "metadata": {
        "colab": {
          "base_uri": "https://localhost:8080/"
        },
        "id": "NtkjbVcvCeBB",
        "outputId": "3139ebf7-dd41-4bdf-fb07-ef0ec19f7cb0"
      },
      "source": [
        "list[-2:-5]"
      ],
      "execution_count": 27,
      "outputs": [
        {
          "output_type": "execute_result",
          "data": {
            "text/plain": [
              "[]"
            ]
          },
          "metadata": {
            "tags": []
          },
          "execution_count": 27
        }
      ]
    },
    {
      "cell_type": "code",
      "metadata": {
        "colab": {
          "base_uri": "https://localhost:8080/"
        },
        "id": "Rii0NbM1Ci1H",
        "outputId": "937a0a97-e7da-4a9e-b814-f271127575dd"
      },
      "source": [
        "list[-2:-5:-1]"
      ],
      "execution_count": 28,
      "outputs": [
        {
          "output_type": "execute_result",
          "data": {
            "text/plain": [
              "[[1, 2, 3], 'Session with Boteskey Ventures', 12.458]"
            ]
          },
          "metadata": {
            "tags": []
          },
          "execution_count": 28
        }
      ]
    },
    {
      "cell_type": "code",
      "metadata": {
        "id": "I4xLg-68CoI2"
      },
      "source": [
        "# How to add a new element to a list?\r\n",
        "\r\n",
        "# 1. Add a new list with the existing list\r\n",
        "\r\n",
        "list = list+['new']"
      ],
      "execution_count": 29,
      "outputs": []
    },
    {
      "cell_type": "code",
      "metadata": {
        "colab": {
          "base_uri": "https://localhost:8080/"
        },
        "id": "HK_awGinj6R5",
        "outputId": "5badc992-0350-4113-d642-9ef73e04c6f4"
      },
      "source": [
        "list"
      ],
      "execution_count": 30,
      "outputs": [
        {
          "output_type": "execute_result",
          "data": {
            "text/plain": [
              "[12, 45, 12.458, 'Session with Boteskey Ventures', [1, 2, 3], True, 'new']"
            ]
          },
          "metadata": {
            "tags": []
          },
          "execution_count": 30
        }
      ]
    },
    {
      "cell_type": "code",
      "metadata": {
        "colab": {
          "base_uri": "https://localhost:8080/"
        },
        "id": "d8mrrfeXj9BV",
        "outputId": "19a84ff7-164d-48ad-a385-2415357d6769"
      },
      "source": [
        "# nested list extraction\r\n",
        "list[-3]"
      ],
      "execution_count": 35,
      "outputs": [
        {
          "output_type": "execute_result",
          "data": {
            "text/plain": [
              "[1, 2, 3]"
            ]
          },
          "metadata": {
            "tags": []
          },
          "execution_count": 35
        }
      ]
    },
    {
      "cell_type": "code",
      "metadata": {
        "colab": {
          "base_uri": "https://localhost:8080/"
        },
        "id": "wY1ObRDLke15",
        "outputId": "a6dcdf0f-4e3d-4f52-88b1-4c0ec0bdd7f7"
      },
      "source": [
        "list[-3][0]"
      ],
      "execution_count": 36,
      "outputs": [
        {
          "output_type": "execute_result",
          "data": {
            "text/plain": [
              "1"
            ]
          },
          "metadata": {
            "tags": []
          },
          "execution_count": 36
        }
      ]
    },
    {
      "cell_type": "code",
      "metadata": {
        "id": "UnOFZeKXkmRW"
      },
      "source": [
        "## 2. Append function of adding an element to a list\r\n",
        "\r\n",
        "list.append('python')"
      ],
      "execution_count": 37,
      "outputs": []
    },
    {
      "cell_type": "code",
      "metadata": {
        "colab": {
          "base_uri": "https://localhost:8080/"
        },
        "id": "6rtBJ_nQlSXl",
        "outputId": "cd0fa5a8-b080-4107-95a0-22ea4b36971a"
      },
      "source": [
        "list"
      ],
      "execution_count": 38,
      "outputs": [
        {
          "output_type": "execute_result",
          "data": {
            "text/plain": [
              "[12,\n",
              " 45,\n",
              " 12.458,\n",
              " 'Session with Boteskey Ventures',\n",
              " [1, 2, 3],\n",
              " True,\n",
              " 'new',\n",
              " 'python']"
            ]
          },
          "metadata": {
            "tags": []
          },
          "execution_count": 38
        }
      ]
    },
    {
      "cell_type": "code",
      "metadata": {
        "id": "u_xW0kQmlVFW"
      },
      "source": [
        "# 3. Insert function method help you to add an element at any position\r\n",
        "\r\n",
        "list.insert(1, 'Sumit')"
      ],
      "execution_count": 39,
      "outputs": []
    },
    {
      "cell_type": "code",
      "metadata": {
        "colab": {
          "base_uri": "https://localhost:8080/"
        },
        "id": "6Fvfsm8pl3c5",
        "outputId": "a28e0e8b-9e37-4601-ee66-0e5b7931508e"
      },
      "source": [
        "list"
      ],
      "execution_count": 40,
      "outputs": [
        {
          "output_type": "execute_result",
          "data": {
            "text/plain": [
              "[12,\n",
              " 'Sumit',\n",
              " 45,\n",
              " 12.458,\n",
              " 'Session with Boteskey Ventures',\n",
              " [1, 2, 3],\n",
              " True,\n",
              " 'new',\n",
              " 'python']"
            ]
          },
          "metadata": {
            "tags": []
          },
          "execution_count": 40
        }
      ]
    },
    {
      "cell_type": "code",
      "metadata": {
        "id": "kKpbDMf8l5rx"
      },
      "source": [
        "# How to remove an element from a list?\r\n",
        "# 1. Remove Function, this method requires you to mention the name of the element that you want to remove from the list.\r\n",
        "\r\n",
        "list.remove(\"Sumit\")"
      ],
      "execution_count": 41,
      "outputs": []
    },
    {
      "cell_type": "code",
      "metadata": {
        "colab": {
          "base_uri": "https://localhost:8080/"
        },
        "id": "CPfkZF8Umd-n",
        "outputId": "5fbd07fe-c7e2-4074-d06a-92a2880ac4c0"
      },
      "source": [
        "list"
      ],
      "execution_count": 43,
      "outputs": [
        {
          "output_type": "execute_result",
          "data": {
            "text/plain": [
              "[12,\n",
              " 45,\n",
              " 12.458,\n",
              " 'Session with Boteskey Ventures',\n",
              " [1, 2, 3],\n",
              " True,\n",
              " 'new',\n",
              " 'python']"
            ]
          },
          "metadata": {
            "tags": []
          },
          "execution_count": 43
        }
      ]
    },
    {
      "cell_type": "code",
      "metadata": {
        "colab": {
          "base_uri": "https://localhost:8080/",
          "height": 36
        },
        "id": "8NIj-ZWfmfbr",
        "outputId": "40b30e0d-1889-49e4-c0bd-db2804720bdd"
      },
      "source": [
        "# 2 method. Pop Function\r\n",
        "# By defult this function will remove the last element on the list, if you don't mention any element.\r\n",
        "list.pop()"
      ],
      "execution_count": 44,
      "outputs": [
        {
          "output_type": "execute_result",
          "data": {
            "application/vnd.google.colaboratory.intrinsic+json": {
              "type": "string"
            },
            "text/plain": [
              "'python'"
            ]
          },
          "metadata": {
            "tags": []
          },
          "execution_count": 44
        }
      ]
    },
    {
      "cell_type": "code",
      "metadata": {
        "colab": {
          "base_uri": "https://localhost:8080/"
        },
        "id": "3pGobLCtnBPm",
        "outputId": "26822468-319f-44af-ca1d-36804178925f"
      },
      "source": [
        "list"
      ],
      "execution_count": 45,
      "outputs": [
        {
          "output_type": "execute_result",
          "data": {
            "text/plain": [
              "[12, 45, 12.458, 'Session with Boteskey Ventures', [1, 2, 3], True, 'new']"
            ]
          },
          "metadata": {
            "tags": []
          },
          "execution_count": 45
        }
      ]
    },
    {
      "cell_type": "code",
      "metadata": {
        "colab": {
          "base_uri": "https://localhost:8080/"
        },
        "id": "MOoDMAC2nFt3",
        "outputId": "360194fa-9643-4bd7-a7dc-f19d955e6235"
      },
      "source": [
        "list.pop(-3)"
      ],
      "execution_count": 46,
      "outputs": [
        {
          "output_type": "execute_result",
          "data": {
            "text/plain": [
              "[1, 2, 3]"
            ]
          },
          "metadata": {
            "tags": []
          },
          "execution_count": 46
        }
      ]
    },
    {
      "cell_type": "code",
      "metadata": {
        "colab": {
          "base_uri": "https://localhost:8080/"
        },
        "id": "3AWwdGyknVS2",
        "outputId": "43b4b723-e488-4439-d2ae-8129b2f4233a"
      },
      "source": [
        "list"
      ],
      "execution_count": 47,
      "outputs": [
        {
          "output_type": "execute_result",
          "data": {
            "text/plain": [
              "[12, 45, 12.458, 'Session with Boteskey Ventures', True, 'new']"
            ]
          },
          "metadata": {
            "tags": []
          },
          "execution_count": 47
        }
      ]
    },
    {
      "cell_type": "code",
      "metadata": {
        "id": "mjx7GLe6nZlO"
      },
      "source": [
        "# How to replace an element in Python\r\n",
        "\r\n",
        "list[-4] = 'Kemi'\r\n"
      ],
      "execution_count": 48,
      "outputs": []
    },
    {
      "cell_type": "code",
      "metadata": {
        "colab": {
          "base_uri": "https://localhost:8080/"
        },
        "id": "yGfiFkA4oExX",
        "outputId": "ad06d1d2-4eae-436c-99a0-6f655780042f"
      },
      "source": [
        "list"
      ],
      "execution_count": 49,
      "outputs": [
        {
          "output_type": "execute_result",
          "data": {
            "text/plain": [
              "[12, 45, 'Kemi', 'Session with Boteskey Ventures', True, 'new']"
            ]
          },
          "metadata": {
            "tags": []
          },
          "execution_count": 49
        }
      ]
    },
    {
      "cell_type": "code",
      "metadata": {
        "id": "yoi13fY6oF_k"
      },
      "source": [
        ""
      ],
      "execution_count": null,
      "outputs": []
    }
  ]
}